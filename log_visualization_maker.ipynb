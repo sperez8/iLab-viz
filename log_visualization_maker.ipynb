{
 "cells": [
  {
   "cell_type": "code",
   "execution_count": 1,
   "metadata": {},
   "outputs": [],
   "source": [
    "%load_ext autoreload\n",
    "%autoreload 1"
   ]
  },
  {
   "cell_type": "code",
   "execution_count": 2,
   "metadata": {},
   "outputs": [],
   "source": [
    "import numpy as np\n",
    "import pandas as pd\n",
    "import matplotlib.pyplot as plt\n",
    "import seaborn as sns\n",
    "%matplotlib inline\n",
    "pd.options.display.max_rows = 1000\n",
    "pd.options.display.max_columns = 60"
   ]
  },
  {
   "cell_type": "code",
   "execution_count": 3,
   "metadata": {},
   "outputs": [],
   "source": [
    "#utils.py is where all our custorm functions live is we set an autoreload on it.\n",
    "%aimport utils \n",
    "from utils import fix_time, get_duration, get_action_usage, merge_action_usage"
   ]
  },
  {
   "cell_type": "markdown",
   "metadata": {},
   "source": [
    "# The data"
   ]
  },
  {
   "cell_type": "code",
   "execution_count": 4,
   "metadata": {
    "collapsed": true
   },
   "outputs": [],
   "source": [
    "df_all = pd.read_excel('all data v3.xlsx', 'iLab data.txt', index_col=None, na_values=['NA'])"
   ]
  },
  {
   "cell_type": "markdown",
   "metadata": {},
   "source": [
    "### Preparing a test sample\n",
    "Let's first use a particular session as a test case. We extract only the data relevant to that case"
   ]
  },
  {
   "cell_type": "code",
   "execution_count": 5,
   "metadata": {},
   "outputs": [],
   "source": [
    "#Using the example used for sketch.\n",
    "#(df_all.condition1 == 'Savanna') & (df_all.student1 == 'penguin') & (df_all.student2 == 'gorilla')]\n",
    "df_test = df_all[df_all['Session Id'] == 'L-2567b17a:120eda25685:-8000']"
   ]
  },
  {
   "cell_type": "markdown",
   "metadata": {},
   "source": [
    "Next we filter out all actions with \"INCORRECT\" outcomes"
   ]
  },
  {
   "cell_type": "code",
   "execution_count": 6,
   "metadata": {},
   "outputs": [
    {
     "name": "stdout",
     "output_type": "stream",
     "text": [
      "We are left with 212 rows out of 285\n"
     ]
    }
   ],
   "source": [
    "before = df_test.shape[0]\n",
    "df_test = df_test[df_test['Outcome'] == 'CORRECT']\n",
    "print \"We are left with {0} rows out of {1}\".format(df_test.shape[0],before)"
   ]
  },
  {
   "cell_type": "markdown",
   "metadata": {},
   "source": [
    "### We need to extract the time stamp of each action and it's duration"
   ]
  },
  {
   "cell_type": "markdown",
   "metadata": {},
   "source": [
    "Next we fix the time logs and convert them to seconds. We also recalculate the time between actions now that we have gotten rid of incorrect actions."
   ]
  },
  {
   "cell_type": "code",
   "execution_count": 7,
   "metadata": {},
   "outputs": [],
   "source": [
    "time_start = list(df_test['time first action'])[0]\n",
    "df_test['Time_seconds'] = df_test[['Time']].applymap(lambda current_time: fix_time(time_start,current_time))\n",
    "df_test['Timeshifted'] = df_test[['Time']].shift(-1)\n",
    "df_test['Duration'] = df_test[['Time','Timeshifted']].apply(get_duration, axis=1)"
   ]
  },
  {
   "cell_type": "markdown",
   "metadata": {},
   "source": [
    "We create a column with the data for the contrasting cases"
   ]
  },
  {
   "cell_type": "code",
   "execution_count": 8,
   "metadata": {},
   "outputs": [],
   "source": [
    "df_test['cases'] = df_test['CF(new1)'] +','+ df_test['CF(new2)']"
   ]
  },
  {
   "cell_type": "markdown",
   "metadata": {},
   "source": [
    "### A first plot"
   ]
  },
  {
   "cell_type": "code",
   "execution_count": 9,
   "metadata": {
    "collapsed": true
   },
   "outputs": [],
   "source": [
    "def get_evaluation_steps_usage(df):\n",
    "    submit_usage = get_action_usage(df,column_to_use[\"submit\"],\"submit\")\n",
    "    evaluation_usage = get_action_usage(df,column_to_use[\"evaluation\"],\"evaluation\")\n",
    "    checkIntuition_usage = get_action_usage(df,column_to_use[\"checkIntuition\"],\"checkIntuition\")\n",
    "    \n",
    "    ##do some merging\n",
    "    merged1 = merge_action_usage(submit_usage,evaluation_usage)\n",
    "    merged2 = merge_action_usage(merged1, checkIntuition_usage)\n",
    "    return merged2"
   ]
  },
  {
   "cell_type": "code",
   "execution_count": 10,
   "metadata": {},
   "outputs": [],
   "source": [
    "color = {\"Now try working on this new example\":\"#252525\",\n",
    "         \"intuition\": \"#969696\", # \"#bdbdbd\",\n",
    "#          \"submit\": \"#969696\",\n",
    "#          \"evaluation\": \"#737373\",\n",
    "#          \"checkIntuition\": \"#525252\",\n",
    "         'Median': \"#33a02c\",\n",
    "         'Average': \"#6a3d9a\",\n",
    "         'Sum': \"#1f78b4\",\n",
    "         'all': \"#ff7f00\",\n",
    "         'evaluation steps': \"#525252\",\n",
    "        }\n",
    "column_to_use = {\"Now try working on this new example\":\"Feedback Text\",\n",
    "                 \"intuition\": \"Selection\",\n",
    "                 \"submit\": \"Selection\",\n",
    "                 \"evaluation\": \"Selection\",\n",
    "                 \"checkIntuition\": \"Selection\",\n",
    "                 'Median': 'Method_Recognized_1_Copied',\n",
    "                 'Average': 'Method_Recognized_1_Copied',\n",
    "                 'Sum': 'Method_Recognized_1_Copied',\n",
    "                 'all': 'Method_Recognized_1_Copied',\n",
    "                }\n",
    "\n",
    "function_to_use = {\"evaluation steps\":get_evaluation_steps_usage}\n",
    "\n",
    "\n",
    "# to_plot = [\"intuition\",'Median','Average','Sum','all',\"submit\",\"evaluation\",\"checkIntuition\",\"evaluation steps\"]\n",
    "to_plot = [\"intuition\",'Median','Average','Sum','all',\"evaluation steps\"]"
   ]
  },
  {
   "cell_type": "code",
   "execution_count": 11,
   "metadata": {},
   "outputs": [
    {
     "data": {
      "image/png": "[encoded data removed]",
      "text/plain": [
       "<matplotlib.figure.Figure at 0xc5c2710>"
      ]
     },
     "metadata": {},
     "output_type": "display_data"
    }
   ],
   "source": [
    "fig = plt.figure(figsize=(18,8))\n",
    "ax = plt.subplot()\n",
    "spacing =10\n",
    "pos = 0\n",
    "max_time = 0\n",
    "actions = list(reversed(to_plot))\n",
    "black = '#252525'\n",
    "for i,action in enumerate(actions):\n",
    "    if action in column_to_use.keys():\n",
    "        action_use = get_action_usage(df_test,column_to_use[action],action)\n",
    "    else:\n",
    "        action_use = function_to_use[action](df_test)\n",
    "    max_time = max(max_time,sum(action_use[-1]))\n",
    "    ax.broken_barh(action_use,(pos,spacing),facecolors=color[action],alpha=1,linewidth=0)\n",
    "    pos += spacing\n",
    "\n",
    "#Add horizontal bar\n",
    "ax.broken_barh([(0,ax.get_xlim()[1])],(40,0.5),facecolors='white',alpha=1,linewidth=0)\n",
    "\n",
    "#Add new case bar\n",
    "new_case = \"Now try working on this new example\"\n",
    "action_use = get_action_usage(df_test,column_to_use[new_case],new_case)\n",
    "max_time = max(max_time,sum(action_use[-1]))\n",
    "ax.broken_barh(action_use,(0,len(actions)*spacing),facecolors=black,alpha=1,linewidth=0)\n",
    "\n",
    "ax.set_xlabel('minutes in activity')\n",
    "ax.set_xticks(range(0,int(max_time),60*5))\n",
    "ax.set_xticklabels([str(x/60)+'' for x in range(0,int(max_time),60*5)])\n",
    "ax.set_yticks(range(spacing/2,len(actions)*spacing,spacing))\n",
    "ax.set_yticklabels(actions)\n",
    "ax.grid(True)\n",
    "plt.show()"
   ]
  },
  {
   "cell_type": "markdown",
   "metadata": {},
   "source": [
    "The black vertical bar in the graph shows when a \"new case\" is presented"
   ]
  },
  {
   "cell_type": "markdown",
   "metadata": {
    "collapsed": true
   },
   "source": [
    "### Adding cases"
   ]
  },
  {
   "cell_type": "code",
   "execution_count": 12,
   "metadata": {},
   "outputs": [],
   "source": [
    "def get_all_cases(df):\n",
    "    '''Given a dataframe with students' activity, we extract all\n",
    "    the contrasting cases they were given as well as starting time and\n",
    "    length of time for which they were working on that case.\n",
    "    \n",
    "    Args:\n",
    "        df (Pandas dataframe): The dataframe to search in.        \n",
    "\n",
    "    Returns:\n",
    "        coordinates: a dictionary where the keys are the cases and values are time coordinates.\n",
    "                    Cases are in the format ('1 2 3 6','2 3 6 7').\n",
    "                    Time coordinates are in the format (start_time, duration)\n",
    "    '''\n",
    "    coordinates = {}\n",
    "    \n",
    "    #get all possible cases\n",
    "    raw_cases = list(set(df['cases']))\n",
    "    for raw_case in raw_cases:\n",
    "        #clean them up:\n",
    "        case = tuple(str(data).replace('\\\"','') for data in raw_case.split(','))\n",
    "        #we get time coordinates the way we always do\n",
    "        coords = get_action_usage(df_test,'cases',raw_case)\n",
    "        #we just need the start time and overall duration.\n",
    "        coordinates[case] = coords\n",
    "        #if it is possible that a pair of cases is used only once, then we can simplify with:\n",
    "#         coordinates[case] = (coords[0][0],sum(coords[-1])-coords[0][0])\n",
    "        \n",
    "    return coordinates\n",
    "\n",
    "#print get_all_cases(df_test)"
   ]
  },
  {
   "cell_type": "markdown",
   "metadata": {
    "collapsed": true
   },
   "source": [
    "### TODO\n",
    "Ordered in some kind of general priority (in terms of need of feedback and desired feature)\n",
    "* start implementing categories that are under “option 4” in the coding document (see copy below from May 29th)\n",
    "* display method at \"max\", after a submit or delete all/reset\n",
    "* add case data to graph\n",
    "* display method at \"max\", after a submit or delete all/reset\n",
    "* merge evaluation and checkintuition\n",
    "* Indicate when current method could be used to “crack” or solve the contrasting cases. (‘when it works’) => correct order. \n",
    "\n",
    "### Overall graph structure:\n",
    "Row 1: intuition\n",
    "Rows 2-n: methods\n",
    "Plot “build” events (any click in that part of the interface).\n",
    "Below, show the method in writing.\n",
    "Row n+1: Submit\n",
    "Row n+2: Evaluation (merge Evaluate, Check Intuition).\n",
    "Later consider merging “submit” into this. \n",
    " \n",
    "Plot building events, not durations \n",
    "Pauses become gaps. \n",
    "\n",
    "\n",
    "\n",
    "#### Categories\n",
    "1. single value\n",
    "* Central tendency , ready made\n",
    "* Combination of ready made, random\n",
    "* Range 6 - 1\n",
    "* Count gaps (if numbers are 1 4 4 6)\n",
    "    * click all empty points within range - 2 3 5\n",
    "    * click all empty points within the largest gap - 2 3\n",
    "* Extrapolated range\n",
    "    * Inner range 4-4 - single step method\n",
    "    * Any method that uses more than extreme values, and some form of subtraction. \n",
    "        * Recursive range (6-1) +/- (4-4)\n",
    "        * All pairwise ranges (6-1, 6-4, 4-4, 4-1)\n",
    "* extrapolated range + count all\n",
    "* Canonical\n"
   ]
  },
  {
   "cell_type": "markdown",
   "metadata": {},
   "source": [
    "### Adding \"range\" method"
   ]
  },
  {
   "cell_type": "code",
   "execution_count": null,
   "metadata": {
    "collapsed": true
   },
   "outputs": [],
   "source": []
  }
 ],
 "metadata": {
  "anaconda-cloud": {},
  "kernelspec": {
   "display_name": "Python 2",
   "language": "python",
   "name": "python2"
  },
  "language_info": {
   "codemirror_mode": {
    "name": "ipython",
    "version": 2
   },
   "file_extension": ".py",
   "mimetype": "text/x-python",
   "name": "python",
   "nbconvert_exporter": "python",
   "pygments_lexer": "ipython2",
   "version": "2.7.13"
  }
 },
 "nbformat": 4,
 "nbformat_minor": 1
}
