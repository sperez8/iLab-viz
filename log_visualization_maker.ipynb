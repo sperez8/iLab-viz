{
 "cells": [
  {
   "cell_type": "code",
   "execution_count": 1,
   "metadata": {
    "collapsed": true
   },
   "outputs": [],
   "source": [
    "%load_ext autoreload\n",
    "%autoreload 1"
   ]
  },
  {
   "cell_type": "code",
   "execution_count": 2,
   "metadata": {
    "collapsed": true
   },
   "outputs": [],
   "source": [
    "import numpy as np\n",
    "import pandas as pd\n",
    "import matplotlib.pyplot as plt\n",
    "import seaborn as sns\n",
    "%matplotlib inline\n",
    "pd.options.display.max_rows = 1000\n",
    "pd.options.display.max_columns = 60"
   ]
  },
  {
   "cell_type": "code",
   "execution_count": 3,
   "metadata": {
    "collapsed": true
   },
   "outputs": [],
   "source": [
    "#utils.py is where all our custorm functions live is we set an autoreload on it.\n",
    "%aimport utils \n",
    "from utils import *"
   ]
  },
  {
   "cell_type": "markdown",
   "metadata": {},
   "source": [
    "# The data"
   ]
  },
  {
   "cell_type": "code",
   "execution_count": 4,
   "metadata": {
    "collapsed": true
   },
   "outputs": [],
   "source": [
    "df_all = pd.read_excel('all data v3.xlsx', 'iLab data.txt', index_col=None, na_values=['NA'])"
   ]
  },
  {
   "cell_type": "markdown",
   "metadata": {},
   "source": [
    "### Preparing a test sample\n",
    "Let's first use a particular session as a test case. We extract only the data relevant to that case"
   ]
  },
  {
   "cell_type": "code",
   "execution_count": 5,
   "metadata": {},
   "outputs": [
    {
     "name": "stdout",
     "output_type": "stream",
     "text": [
      "After removin 'incorrect' actions, we are left with 212 rows out of 285\n"
     ]
    }
   ],
   "source": [
    "#Using the example used for sketch.\n",
    "def prepare_session(df,sessionid):\n",
    "    new_df = df_all[df_all['Session Id'] == sessionid]\n",
    "    \n",
    "#     Next we filter out all actions with \"INCORRECT\" outcomes\n",
    "    before = new_df.shape[0]\n",
    "    new_df = new_df[new_df['Outcome'] == 'CORRECT']\n",
    "    print \"After removin 'incorrect' actions, we are left with {0} rows out of {1}\".format(new_df.shape[0],before)\n",
    "    \n",
    "#     We also clean up the methods removing annoying characters like \"{\"\n",
    "    new_df['Cleaned method 1'] = new_df[['Method_Recognized_1_Copied']].applymap(lambda method:clean_method(method))\n",
    "    new_df['Cleaned method 2'] = new_df[['Method_Recognized_2_Copied']].applymap(lambda method:clean_method(method))\n",
    "\n",
    "#     We create a column with the data for the contrasting cases\n",
    "    new_df['cases'] = new_df['CF(new1)'].str.replace('\"','') +','+ new_df['CF(new2)'].str.replace('\"','')\n",
    "    \n",
    "#     Next we fix the time logs and convert them to seconds. We also recalculate the time between actions now that we have gotten rid of incorrect actions.\n",
    "    time_start = list(new_df['time first action'])[0]\n",
    "    new_df['Time_seconds'] = new_df[['Time']].applymap(lambda current_time: fix_time(time_start,current_time))\n",
    "    new_df['Timeshifted'] = new_df[['Time']].shift(-1)\n",
    "    new_df['Duration'] = new_df[['Time','Timeshifted']].apply(calculate_duration, axis=1)\n",
    "    return new_df\n",
    "\n",
    "df_test = prepare_session(df_all,'L-2567b17a:120eda25685:-8000')"
   ]
  },
  {
   "cell_type": "markdown",
   "metadata": {},
   "source": [
    "# A first plot"
   ]
  },
  {
   "cell_type": "code",
   "execution_count": 6,
   "metadata": {
    "collapsed": true
   },
   "outputs": [],
   "source": [
    "colors = {\"Now try working on this new example\":\"#252525\",\n",
    "         \"intuition\": \"#bdbdbd\",\n",
    "         \"submit\": \"#969696\",\n",
    "         \"evaluation\": \"#737373\",\n",
    "         \"checkIntuition\": \"#525252\",\n",
    "         'Median': \"#33a02c\",\n",
    "         'Average': \"#6a3d9a\",\n",
    "         'Sum': \"#1f78b4\",\n",
    "         'all': \"#ff7f00\",\n",
    "        }\n",
    "column_to_use = {\"Now try working on this new example\":\"Feedback Text\",\n",
    "                 \"intuition\": \"Selection\",\n",
    "                 \"submit\": \"Selection\",\n",
    "                 \"evaluation\": \"Selection\",\n",
    "                 \"checkIntuition\": \"Selection\",\n",
    "                 'Median': 'Cleaned method 1',\n",
    "                 'Average': 'Cleaned method 1',\n",
    "                 'Sum': 'Cleaned method 1',\n",
    "                 'all': 'Cleaned method 1',\n",
    "                }\n",
    "function_to_use = {}\n",
    "to_plot = [\"intuition\",'Median','Average','Sum','all',\"submit\",\"evaluation\",\"checkIntuition\"]"
   ]
  },
  {
   "cell_type": "code",
   "execution_count": 17,
   "metadata": {},
   "outputs": [],
   "source": [
    "def plot(df,to_plot,colors, column_to_use, function_to_use):\n",
    "    fig = plt.figure(figsize=(18,9))\n",
    "    ax = plt.subplot()\n",
    "    spacing =10\n",
    "    pos = 0\n",
    "    max_time = 0\n",
    "    actions = list(reversed(to_plot))\n",
    "    black = '#252525'\n",
    "    for i,action in enumerate(actions):\n",
    "        if action == \"\":\n",
    "            cases = all_cases(df)\n",
    "            for case,coords in all_cases(df).items():\n",
    "                left = [float(x) for x in case[0].split(\" \")]\n",
    "                right = [float(x) for x in case[1].split(\" \")]\n",
    "                ymax = max(max(left),max(right))\n",
    "                ymin = min(min(left),min(right))\n",
    "                Xl = [coords[0]+30]*len(left)\n",
    "                Yl = [l/(ymax)*(spacing-2.5)+1+pos for l in left]\n",
    "                Xr = [coords[0]+30+20]*len(right)\n",
    "                Yr = [r/(ymax)*(spacing-2.5)+1+pos for r in right]\n",
    "                ax.plot(Xl,Yl,'.',color='lightgrey',markersize=13)\n",
    "                ax.plot(Xr,Yr,'.',color='white',markersize=13)\n",
    "        if action in column_to_use.keys():\n",
    "            action_use = action_usage(df,column_to_use[action],action)\n",
    "        else:\n",
    "            action_use = function_to_use[action](df)\n",
    "        if action_use:\n",
    "            max_time = max(max_time,sum(action_use[-1]))\n",
    "            ax.broken_barh(action_use,(pos,spacing),facecolors=colors[action],alpha=1,linewidth=0)\n",
    "        pos += spacing\n",
    "\n",
    "#     #Add horizontal bar\n",
    "#     ax.broken_barh([(0,ax.get_xlim()[1])],((len(actions))*spacing,spacing),facecolors='white',alpha=1,linewidth=0)\n",
    "\n",
    "    #Add new case bar\n",
    "    new_case = \"Now try working on this new example\"\n",
    "    action_use = action_usage(df,column_to_use[new_case],new_case)\n",
    "    case_use = [(x,3) for (x,y) in action_use]+[(0,3)]\n",
    "    max_time = max(max_time,sum(action_use[-1]))\n",
    "    ax.broken_barh(case_use,(0,(len(actions))*spacing),facecolors=black,alpha=1,linewidth=0)\n",
    "\n",
    "    ax.set_xlabel('minutes in activity')\n",
    "    ax.set_xticks(range(0,int(max_time),60*5))\n",
    "    ax.set_xticklabels([str(x/60)+'' for x in range(0,int(max_time),60*5)])\n",
    "    ax.set_yticks(range(spacing/2,len(actions)*spacing,spacing))\n",
    "    ax.set_yticklabels(actions)\n",
    "    ax.grid(True)\n",
    "    plt.show()"
   ]
  },
  {
   "cell_type": "code",
   "execution_count": 18,
   "metadata": {},
   "outputs": [
    {
     "data": {
      "image/png": "[encoded data removed]",
      "text/plain": [
       "<matplotlib.figure.Figure at 0xcb83b70>"
      ]
     },
     "metadata": {},
     "output_type": "display_data"
    }
   ],
   "source": [
    "plot(df_test,to_plot,colors, column_to_use, function_to_use)"
   ]
  },
  {
   "cell_type": "markdown",
   "metadata": {},
   "source": [
    "The black vertical bar in the graph shows when a \"new case\" is presented"
   ]
  },
  {
   "cell_type": "markdown",
   "metadata": {
    "collapsed": true
   },
   "source": [
    "# The actual plot we want"
   ]
  },
  {
   "cell_type": "markdown",
   "metadata": {},
   "source": [
    "## Add extrapolated range"
   ]
  },
  {
   "cell_type": "code",
   "execution_count": 19,
   "metadata": {},
   "outputs": [
    {
     "data": {
      "text/plain": [
       "[(1261.0, 185.0)]"
      ]
     },
     "execution_count": 19,
     "metadata": {},
     "output_type": "execute_result"
    }
   ],
   "source": [
    "def regex_extrapolated_range(case_max1,case_min1,case_max2,case_min2):\n",
    "    pattern = \"(?:st\\d+ {0} \\- {1} st\\d+ {2} \\- {3}|st\\d+ {2} \\- {3} st\\d+ {0} \\- {1}) st3 Step[12] [x\\+\\-\\\\\\\\] Step[12]\".format(case_max1,case_min1,case_max2,case_min2)\n",
    "    return pattern\n",
    "\n",
    "def extrapolated_range_usage(df):\n",
    "    usage = []\n",
    "    cases = all_cases(df)\n",
    "    for case,coords in cases.items():\n",
    "        start = coords[0]\n",
    "        end = coords[1]\n",
    "        \n",
    "        lcase = case[0].split(\" \")\n",
    "        rcase = case[1].split(\" \")\n",
    "        lcase.sort()\n",
    "        rcase.sort()\n",
    "        \n",
    "        #find min and maxes of cases for the regex\n",
    "        lmin1,lmin2,lmax2,lmax1 = lcase[0],lcase[1],lcase[-2],lcase[-1]\n",
    "        rmin1,rmin2,rmax2,rmax1 = rcase[0],rcase[1],rcase[-2],rcase[-1]\n",
    "        \n",
    "        #get all times that the range is used somewhere the method\n",
    "        range1 = action_usage(df,'Cleaned method 1',regex_extrapolated_range(lmax1,lmin1,lmax2,lmin2))\n",
    "        range2 = action_usage(df,'Cleaned method 2',regex_extrapolated_range(rmax1,rmin1,rmax2,rmin2))\n",
    "\n",
    "#         print case, coords[0], coords[0]+coords[1]\n",
    "#         print \"rangel1:\", regex_extrapolated_range(lmin1,lmax1)\n",
    "#         print \"rangel2:\", regex_extrapolated_range(lmin2,lmax2)\n",
    "#         print \"ranger1:\", regex_extrapolated_range(rmin1,rmax1)\n",
    "#         print \"ranger2:\", regex_extrapolated_range(rmin2,rmax2)\n",
    "        \n",
    "        # and keep only the times that fall within the current case\n",
    "        range1_for_case = intersect_usage(range1,[coords])\n",
    "        range2_for_case = intersect_usage(range2,[coords])\n",
    "\n",
    "        # Merge when it's used on both cases\n",
    "        usage.extend(clean_coords(merge_usage(range1_for_case,range2_for_case)))\n",
    "\n",
    "    usage.sort()\n",
    "    return usage\n",
    "\n",
    "extrapolated_range_usage(df_test)"
   ]
  },
  {
   "cell_type": "markdown",
   "metadata": {},
   "source": [
    "## Adding in count gaps"
   ]
  },
  {
   "cell_type": "code",
   "execution_count": 20,
   "metadata": {
    "scrolled": true
   },
   "outputs": [
    {
     "name": "stdout",
     "output_type": "stream",
     "text": [
      "After removin 'incorrect' actions, we are left with 207 rows out of 288\n"
     ]
    }
   ],
   "source": [
    "df_gaps = prepare_session(df_all,'L-10f11766:120ecd4f63a:-8000')"
   ]
  },
  {
   "cell_type": "code",
   "execution_count": 21,
   "metadata": {},
   "outputs": [
    {
     "data": {
      "text/plain": [
       "[(627.0, 9.0), (1294.0, 160.0)]"
      ]
     },
     "execution_count": 21,
     "metadata": {},
     "output_type": "execute_result"
    }
   ],
   "source": [
    "def regex_count_gaps(gapvalues):\n",
    "    pattern = \"st\\d+ Count( choose...)?[( {0})]+\".format(')( '.join(gapvalues))\n",
    "#     print pattern\n",
    "    return pattern\n",
    "\n",
    "def count_gaps_usage(df):\n",
    "    usage = []\n",
    "    cases = all_cases(df)\n",
    "    for case,coords in cases.items():\n",
    "        start = coords[0]\n",
    "        end = coords[1]\n",
    "        \n",
    "        lcase = case[0].split(\" \")\n",
    "        rcase = case[1].split(\" \")\n",
    "        lcase.sort()\n",
    "        rcase.sort()\n",
    "        \n",
    "        #get gap values for the regex\n",
    "        gapvalues_left = set(range( int(min(lcase)) , int(max(lcase)) )) - set([int(x) for x in lcase]) \n",
    "        gapvalues_right = set(range( int(min(rcase)) , int(max(rcase)) )) - set([int(x) for x in rcase]) \n",
    "        \n",
    "        \n",
    "#         print lcase,  set([int(str(x)) for x in lcase])\n",
    "#         print 'gap', gapvalues_left \n",
    "#         print rcase\n",
    "#         print 'gap', gapvalues_right\n",
    "#         print '\\n'\n",
    "        \n",
    "        #get all times that the range is used somewhere the method\n",
    "        range1 = action_usage(df,'Cleaned method 1',regex_count_gaps([str(x) for x in gapvalues_left]))\n",
    "        range2 = action_usage(df,'Cleaned method 2',regex_count_gaps([str(x) for x in gapvalues_right]))\n",
    "\n",
    "#         print case, coords[0], coords[0]+coords[1]\n",
    "#         print \"rangel1:\", regex_count_gaps(lmin1,lmax1)\n",
    "#         print \"rangel2:\", regex_count_gaps(lmin2,lmax2)\n",
    "#         print \"ranger1:\", regex_count_gaps(rmin1,rmax1)\n",
    "#         print \"ranger2:\", regex_count_gaps(rmin2,rmax2)\n",
    "        \n",
    "        # and keep only the times that fall within the current case\n",
    "        range1_for_case = intersect_usage(range1,[coords])\n",
    "        range2_for_case = intersect_usage(range2,[coords])\n",
    "\n",
    "        # Merge when it's used on both cases\n",
    "        usage.extend(clean_coords(merge_usage(range1_for_case,range2_for_case)))\n",
    "\n",
    "    usage.sort()\n",
    "    return usage\n",
    "\n",
    "count_gaps_usage(df_gaps)"
   ]
  },
  {
   "cell_type": "markdown",
   "metadata": {},
   "source": [
    "## Adding cases"
   ]
  },
  {
   "cell_type": "code",
   "execution_count": 22,
   "metadata": {},
   "outputs": [
    {
     "data": {
      "text/plain": [
       "[(1275.0, 80), (0.0, 80)]"
      ]
     },
     "execution_count": 22,
     "metadata": {},
     "output_type": "execute_result"
    }
   ],
   "source": [
    "def case_usage(df):\n",
    "    usage = []\n",
    "    cases = all_cases(df)\n",
    "    for case,coords in cases.items():\n",
    "        start = coords[0]\n",
    "        end = 30+20+30\n",
    "        usage.append((start,end))\n",
    "    return usage\n",
    "\n",
    "case_usage(df_gaps)"
   ]
  },
  {
   "cell_type": "code",
   "execution_count": 23,
   "metadata": {},
   "outputs": [],
   "source": [
    "colors = {\"\":\"black\",\n",
    "         \"Now try working on this new example\":\"#252525\",\n",
    "         \"intuition\": \"#969696\",\n",
    "         \"single value\": \"red\",\n",
    "         'Central tendency': \"#33a02c\",\n",
    "         'extrapolated range': \"#6a3d9a\",\n",
    "#          'Average': \"#6a3d9a\",\n",
    "#          'Sum': \"#1f78b4\",\n",
    "          'Count gaps': \"#1f78b4\",\n",
    "          'range': \"#1f78b4\",\n",
    "         'all': \"#ff7f00\",\n",
    "         'evaluation steps': \"#525252\",\n",
    "        }\n",
    "column_to_use = {\"Now try working on this new example\":\"Feedback Text\",\n",
    "                 \"intuition\": \"Selection\",\n",
    "                 \"submit\": \"Selection\",\n",
    "                 \"evaluation\": \"Selection\",\n",
    "                 \"checkIntuition\": \"Selection\",\n",
    "                 'Median': 'Cleaned method 1',\n",
    "                 'Average': 'Cleaned method 1',\n",
    "                 'Sum': 'Cleaned method 1',\n",
    "                 'all': 'Cleaned method 1',\n",
    "                }\n",
    "\n",
    "function_to_use = {\"\":case_usage,\n",
    "                   \"single value\":single_value_usage,\n",
    "                   \"Central tendency\":central_tendency_usage,\n",
    "                   \"range\":range_usage,\n",
    "                   \"extrapolated range\":extrapolated_range_usage,\n",
    "                   \"Count gaps\":count_gaps_usage,\n",
    "                   \"evaluation steps\":evaluation_steps_usage}\n",
    "\n",
    "to_plot = [\"\",\"intuition\",'single value','Central tendency','range',\"extrapolated range\",\"Count gaps\",\"evaluation steps\"]"
   ]
  },
  {
   "cell_type": "markdown",
   "metadata": {},
   "source": [
    "### Session with gap counting"
   ]
  },
  {
   "cell_type": "code",
   "execution_count": 24,
   "metadata": {},
   "outputs": [
    {
     "data": {
      "image/png": "[encoded data removed]",
      "text/plain": [
       "<matplotlib.figure.Figure at 0xc137978>"
      ]
     },
     "metadata": {},
     "output_type": "display_data"
    }
   ],
   "source": [
    "plot(df_gaps,to_plot,colors, column_to_use, function_to_use)"
   ]
  },
  {
   "cell_type": "markdown",
   "metadata": {},
   "source": [
    "### Session with range and extrapolated range"
   ]
  },
  {
   "cell_type": "code",
   "execution_count": 25,
   "metadata": {},
   "outputs": [
    {
     "data": {
      "image/png": "[encoded data removed]",
      "text/plain": [
       "<matplotlib.figure.Figure at 0xe461b38>"
      ]
     },
     "metadata": {},
     "output_type": "display_data"
    }
   ],
   "source": [
    "plot(df_test,to_plot,colors, column_to_use, function_to_use)"
   ]
  },
  {
   "cell_type": "code",
   "execution_count": 26,
   "metadata": {},
   "outputs": [
    {
     "data": {
      "image/png": "[encoded data removed]",
      "text/plain": [
       "<matplotlib.figure.Figure at 0xe777710>"
      ]
     },
     "metadata": {},
     "output_type": "display_data"
    }
   ],
   "source": [
    "plot(df_test,to_plot,colors, column_to_use, function_to_use)"
   ]
  },
  {
   "cell_type": "code",
   "execution_count": null,
   "metadata": {
    "collapsed": true
   },
   "outputs": [],
   "source": []
  },
  {
   "cell_type": "code",
   "execution_count": null,
   "metadata": {
    "collapsed": true
   },
   "outputs": [],
   "source": []
  },
  {
   "cell_type": "code",
   "execution_count": null,
   "metadata": {
    "collapsed": true
   },
   "outputs": [],
   "source": []
  },
  {
   "cell_type": "markdown",
   "metadata": {
    "collapsed": true
   },
   "source": [
    "### TODO\n",
    "Ordered in some kind of general priority (in terms of need of feedback and desired feature)\n",
    "* start implementing categories that are under “option 4” in the coding document (see copy below from May 29th)\n",
    "* display method at \"max\", after a submit or delete all/reset\n",
    "* add case data to graph\n",
    "* display method at \"max\", after a submit or delete all/reset\n",
    "* merge evaluation and checkintuition\n",
    "* Indicate when current method could be used to “crack” or solve the contrasting cases. (‘when it works’) => correct order. \n",
    "\n",
    "### Overall graph structure:\n",
    "Row 1: intuition\n",
    "Rows 2-n: methods\n",
    "Plot “build” events (any click in that part of the interface).\n",
    "Below, show the method in writing.\n",
    "Row n+1: Submit\n",
    "Row n+2: Evaluation (merge Evaluate, Check Intuition).\n",
    "Later consider merging “submit” into this. \n",
    " \n",
    "Plot building events, not durations \n",
    "Pauses become gaps. \n",
    "\n",
    "\n",
    "\n",
    "#### Categories\n",
    "1. single value -DONE\n",
    "* Central tendency, ready made -DONE\n",
    "* Combination of ready made, random\n",
    "* Range 6 - 1\n",
    "* Count gaps (if numbers are 1 4 4 6)\n",
    "    * click all empty points within range - 2 3 5\n",
    "    * click all empty points within the largest gap - 2 3\n",
    "* Extrapolated range\n",
    "    * Inner range 4-4 - single step method\n",
    "    * Any method that uses more than extreme values, and some form of subtraction. \n",
    "        * Recursive range (6-1) +/- (4-4)\n",
    "        * All pairwise ranges (6-1, 6-4, 4-4, 4-1)\n",
    "* extrapolated range + count all\n",
    "* Canonical\n"
   ]
  },
  {
   "cell_type": "code",
   "execution_count": null,
   "metadata": {
    "collapsed": true
   },
   "outputs": [],
   "source": []
  }
 ],
 "metadata": {
  "anaconda-cloud": {},
  "kernelspec": {
   "display_name": "Python 2",
   "language": "python",
   "name": "python2"
  },
  "language_info": {
   "codemirror_mode": {
    "name": "ipython",
    "version": 2
   },
   "file_extension": ".py",
   "mimetype": "text/x-python",
   "name": "python",
   "nbconvert_exporter": "python",
   "pygments_lexer": "ipython2",
   "version": "2.7.13"
  }
 },
 "nbformat": 4,
 "nbformat_minor": 1
}
