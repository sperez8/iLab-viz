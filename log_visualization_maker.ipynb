{
 "cells": [
  {
   "cell_type": "code",
   "execution_count": 1,
   "metadata": {
    "collapsed": true
   },
   "outputs": [],
   "source": [
    "%load_ext autoreload\n",
    "%autoreload 1"
   ]
  },
  {
   "cell_type": "code",
   "execution_count": 2,
   "metadata": {
    "collapsed": true
   },
   "outputs": [],
   "source": [
    "import numpy as np\n",
    "import pandas as pd\n",
    "import matplotlib.pyplot as plt\n",
    "import seaborn as sns\n",
    "%matplotlib inline\n",
    "pd.options.display.max_rows = 1000\n",
    "pd.options.display.max_columns = 60"
   ]
  },
  {
   "cell_type": "code",
   "execution_count": 3,
   "metadata": {
    "collapsed": true
   },
   "outputs": [],
   "source": [
    "#utils.py is where all our custorm functions live is we set an autoreload on it.\n",
    "%aimport utils \n",
    "from utils import *"
   ]
  },
  {
   "cell_type": "markdown",
   "metadata": {},
   "source": [
    "# The data"
   ]
  },
  {
   "cell_type": "code",
   "execution_count": 4,
   "metadata": {
    "collapsed": true
   },
   "outputs": [],
   "source": [
    "df_all = pd.read_excel('all data v3.xlsx', 'iLab data.txt', index_col=None, na_values=['NA'])"
   ]
  },
  {
   "cell_type": "markdown",
   "metadata": {},
   "source": [
    "### Preparing a test sample\n",
    "Let's first use a particular session as a test case. We extract only the data relevant to that case"
   ]
  },
  {
   "cell_type": "code",
   "execution_count": 5,
   "metadata": {
    "collapsed": false
   },
   "outputs": [
    {
     "name": "stdout",
     "output_type": "stream",
     "text": [
      "After removin 'incorrect' actions, we are left with 212 rows out of 285\n"
     ]
    }
   ],
   "source": [
    "#Using the example used for sketch.\n",
    "def prepare_session(df,sessionid):\n",
    "    new_df = df_all[df_all['Session Id'] == sessionid]\n",
    "    \n",
    "#     Next we filter out all actions with \"INCORRECT\" outcomes\n",
    "    before = new_df.shape[0]\n",
    "    new_df = new_df[new_df['Outcome'] == 'CORRECT']\n",
    "    print \"After removin 'incorrect' actions, we are left with {0} rows out of {1}\".format(new_df.shape[0],before)\n",
    "    \n",
    "#     We also clean up the methods removing annoying characters like \"{\"\n",
    "    new_df['Cleaned method 1'] = new_df[['Method_Recognized_1_Copied']].applymap(lambda method:clean_method(method))\n",
    "    new_df['Cleaned method 2'] = new_df[['Method_Recognized_2_Copied']].applymap(lambda method:clean_method(method))\n",
    "\n",
    "#     We create a column with the data for the contrasting cases\n",
    "    new_df['cases'] = new_df['CF(new1)'].str.replace('\"','') +','+ new_df['CF(new2)'].str.replace('\"','')\n",
    "    \n",
    "#     Next we fix the time logs and convert them to seconds. We also recalculate the time between actions now that we have gotten rid of incorrect actions.\n",
    "    time_start = list(df['time first action'])[0]\n",
    "    df['Time_seconds'] = df[['Time']].applymap(lambda current_time: fix_time(time_start,current_time))\n",
    "    df['Timeshifted'] = df[['Time']].shift(-1)\n",
    "    df['Duration'] = df[['Time','Timeshifted']].apply(calculate_duration, axis=1)\n",
    "    return new_df\n",
    "\n",
    "df_test = prepare_session(df_all,'L-2567b17a:120eda25685:-8000')"
   ]
  },
  {
   "cell_type": "markdown",
   "metadata": {},
   "source": [
    "# A first plot"
   ]
  },
  {
   "cell_type": "code",
   "execution_count": 6,
   "metadata": {
    "collapsed": true
   },
   "outputs": [],
   "source": [
    "colors = {\"Now try working on this new example\":\"#252525\",\n",
    "         \"intuition\": \"#bdbdbd\",\n",
    "         \"submit\": \"#969696\",\n",
    "         \"evaluation\": \"#737373\",\n",
    "         \"checkIntuition\": \"#525252\",\n",
    "         'Median': \"#33a02c\",\n",
    "         'Average': \"#6a3d9a\",\n",
    "         'Sum': \"#1f78b4\",\n",
    "         'all': \"#ff7f00\",\n",
    "        }\n",
    "column_to_use = {\"Now try working on this new example\":\"Feedback Text\",\n",
    "                 \"intuition\": \"Selection\",\n",
    "                 \"submit\": \"Selection\",\n",
    "                 \"evaluation\": \"Selection\",\n",
    "                 \"checkIntuition\": \"Selection\",\n",
    "                 'Median': 'Cleaned method 1',\n",
    "                 'Average': 'Cleaned method 1',\n",
    "                 'Sum': 'Cleaned method 1',\n",
    "                 'all': 'Cleaned method 1',\n",
    "                }\n",
    "function_to_use = {}\n",
    "to_plot = [\"intuition\",'Median','Average','Sum','all',\"submit\",\"evaluation\",\"checkIntuition\"]"
   ]
  },
  {
   "cell_type": "code",
   "execution_count": 7,
   "metadata": {
    "collapsed": true
   },
   "outputs": [],
   "source": [
    "def plot(to_plot,colors, column_to_use, function_to_use):\n",
    "    fig = plt.figure(figsize=(18,8))\n",
    "    ax = plt.subplot()\n",
    "    spacing =10\n",
    "    pos = 0\n",
    "    max_time = 0\n",
    "    actions = list(reversed(to_plot))\n",
    "    black = '#252525'\n",
    "    for i,action in enumerate(actions):\n",
    "        if action in column_to_use.keys():\n",
    "            action_use = action_usage(df_test,column_to_use[action],action)\n",
    "        else:\n",
    "            action_use = function_to_use[action](df_test)\n",
    "        if action_use:\n",
    "            max_time = max(max_time,sum(action_use[-1]))\n",
    "            ax.broken_barh(action_use,(pos,spacing),facecolors=colors[action],alpha=1,linewidth=0)\n",
    "        pos += spacing\n",
    "\n",
    "    #Add horizontal bar\n",
    "    ax.broken_barh([(0,ax.get_xlim()[1])],((len(actions))*spacing,spacing),facecolors='white',alpha=1,linewidth=0)\n",
    "\n",
    "    #Add new case bar\n",
    "    new_case = \"Now try working on this new example\"\n",
    "    action_use = action_usage(df_test,column_to_use[new_case],new_case)\n",
    "    max_time = max(max_time,sum(action_use[-1]))\n",
    "    ax.broken_barh(action_use,(0,(len(actions)+1)*spacing),facecolors=black,alpha=1,linewidth=0)\n",
    "\n",
    "    ax.set_xlabel('minutes in activity')\n",
    "    ax.set_xticks(range(0,int(max_time),60*5))\n",
    "    ax.set_xticklabels([str(x/60)+'' for x in range(0,int(max_time),60*5)])\n",
    "    ax.set_yticks(range(spacing/2,len(actions)*spacing,spacing))\n",
    "    ax.set_yticklabels(actions)\n",
    "    ax.grid(True)\n",
    "    plt.show()"
   ]
  },
  {
   "cell_type": "code",
   "execution_count": 8,
   "metadata": {
    "collapsed": false
   },
   "outputs": [
    {
     "ename": "KeyError",
     "evalue": "'Time_seconds'",
     "output_type": "error",
     "traceback": [
      "\u001b[1;31m---------------------------------------------------------------------------\u001b[0m",
      "\u001b[1;31mKeyError\u001b[0m                                  Traceback (most recent call last)",
      "\u001b[1;32m<ipython-input-8-b865d5e0c799>\u001b[0m in \u001b[0;36m<module>\u001b[1;34m()\u001b[0m\n\u001b[1;32m----> 1\u001b[1;33m \u001b[0mplot\u001b[0m\u001b[1;33m(\u001b[0m\u001b[0mto_plot\u001b[0m\u001b[1;33m,\u001b[0m\u001b[0mcolors\u001b[0m\u001b[1;33m,\u001b[0m \u001b[0mcolumn_to_use\u001b[0m\u001b[1;33m,\u001b[0m \u001b[0mfunction_to_use\u001b[0m\u001b[1;33m)\u001b[0m\u001b[1;33m\u001b[0m\u001b[0m\n\u001b[0m",
      "\u001b[1;32m<ipython-input-7-30dbf9f53801>\u001b[0m in \u001b[0;36mplot\u001b[1;34m(to_plot, colors, column_to_use, function_to_use)\u001b[0m\n\u001b[0;32m      9\u001b[0m     \u001b[1;32mfor\u001b[0m \u001b[0mi\u001b[0m\u001b[1;33m,\u001b[0m\u001b[0maction\u001b[0m \u001b[1;32min\u001b[0m \u001b[0menumerate\u001b[0m\u001b[1;33m(\u001b[0m\u001b[0mactions\u001b[0m\u001b[1;33m)\u001b[0m\u001b[1;33m:\u001b[0m\u001b[1;33m\u001b[0m\u001b[0m\n\u001b[0;32m     10\u001b[0m         \u001b[1;32mif\u001b[0m \u001b[0maction\u001b[0m \u001b[1;32min\u001b[0m \u001b[0mcolumn_to_use\u001b[0m\u001b[1;33m.\u001b[0m\u001b[0mkeys\u001b[0m\u001b[1;33m(\u001b[0m\u001b[1;33m)\u001b[0m\u001b[1;33m:\u001b[0m\u001b[1;33m\u001b[0m\u001b[0m\n\u001b[1;32m---> 11\u001b[1;33m             \u001b[0maction_use\u001b[0m \u001b[1;33m=\u001b[0m \u001b[0maction_usage\u001b[0m\u001b[1;33m(\u001b[0m\u001b[0mdf_test\u001b[0m\u001b[1;33m,\u001b[0m\u001b[0mcolumn_to_use\u001b[0m\u001b[1;33m[\u001b[0m\u001b[0maction\u001b[0m\u001b[1;33m]\u001b[0m\u001b[1;33m,\u001b[0m\u001b[0maction\u001b[0m\u001b[1;33m)\u001b[0m\u001b[1;33m\u001b[0m\u001b[0m\n\u001b[0m\u001b[0;32m     12\u001b[0m         \u001b[1;32melse\u001b[0m\u001b[1;33m:\u001b[0m\u001b[1;33m\u001b[0m\u001b[0m\n\u001b[0;32m     13\u001b[0m             \u001b[0maction_use\u001b[0m \u001b[1;33m=\u001b[0m \u001b[0mfunction_to_use\u001b[0m\u001b[1;33m[\u001b[0m\u001b[0maction\u001b[0m\u001b[1;33m]\u001b[0m\u001b[1;33m(\u001b[0m\u001b[0mdf_test\u001b[0m\u001b[1;33m)\u001b[0m\u001b[1;33m\u001b[0m\u001b[0m\n",
      "\u001b[1;32mC:\\Users\\sperez8\\git\\iLab-viz\\utils.pyc\u001b[0m in \u001b[0;36maction_usage\u001b[1;34m(df, column, action)\u001b[0m\n\u001b[0;32m    102\u001b[0m         \u001b[0mA\u001b[0m \u001b[0mlist\u001b[0m \u001b[0mof\u001b[0m \u001b[0mtuples\u001b[0m \u001b[1;32mwith\u001b[0m \u001b[0mstart\u001b[0m \u001b[0mtimes\u001b[0m \u001b[0mof\u001b[0m \u001b[0mthe\u001b[0m \u001b[0maction\u001b[0m \u001b[1;32mand\u001b[0m \u001b[0mit\u001b[0m\u001b[0;31m'\u001b[0m\u001b[0ms\u001b[0m \u001b[0mduration\u001b[0m \u001b[1;33m[\u001b[0m\u001b[1;33m(\u001b[0m\u001b[0mstart1\u001b[0m\u001b[1;33m,\u001b[0m\u001b[0mduration1\u001b[0m\u001b[1;33m)\u001b[0m\u001b[1;33m,\u001b[0m\u001b[1;33m(\u001b[0m\u001b[0mstart2\u001b[0m\u001b[1;33m,\u001b[0m\u001b[0mduration2\u001b[0m\u001b[1;33m)\u001b[0m\u001b[1;33m,\u001b[0m\u001b[1;33m.\u001b[0m\u001b[1;33m.\u001b[0m\u001b[1;33m.\u001b[0m\u001b[1;33m]\u001b[0m\u001b[1;33m\u001b[0m\u001b[0m\n\u001b[0;32m    103\u001b[0m     '''\n\u001b[1;32m--> 104\u001b[1;33m     \u001b[1;32mreturn\u001b[0m \u001b[0mzip\u001b[0m\u001b[1;33m(\u001b[0m\u001b[0mdf\u001b[0m\u001b[1;33m[\u001b[0m\u001b[0mdf\u001b[0m\u001b[1;33m[\u001b[0m\u001b[0mcolumn\u001b[0m\u001b[1;33m]\u001b[0m\u001b[1;33m.\u001b[0m\u001b[0mstr\u001b[0m\u001b[1;33m.\u001b[0m\u001b[0mcontains\u001b[0m\u001b[1;33m(\u001b[0m\u001b[0maction\u001b[0m\u001b[1;33m,\u001b[0m\u001b[0mna\u001b[0m\u001b[1;33m=\u001b[0m\u001b[0mFalse\u001b[0m\u001b[1;33m)\u001b[0m\u001b[1;33m]\u001b[0m\u001b[1;33m[\u001b[0m\u001b[1;34m'Time_seconds'\u001b[0m\u001b[1;33m]\u001b[0m\u001b[1;33m,\u001b[0m\u001b[0mdf\u001b[0m\u001b[1;33m[\u001b[0m\u001b[0mdf\u001b[0m\u001b[1;33m[\u001b[0m\u001b[0mcolumn\u001b[0m\u001b[1;33m]\u001b[0m\u001b[1;33m.\u001b[0m\u001b[0mstr\u001b[0m\u001b[1;33m.\u001b[0m\u001b[0mcontains\u001b[0m\u001b[1;33m(\u001b[0m\u001b[0maction\u001b[0m\u001b[1;33m,\u001b[0m\u001b[0mna\u001b[0m\u001b[1;33m=\u001b[0m\u001b[0mFalse\u001b[0m\u001b[1;33m)\u001b[0m\u001b[1;33m]\u001b[0m\u001b[1;33m[\u001b[0m\u001b[1;34m'Duration'\u001b[0m\u001b[1;33m]\u001b[0m\u001b[1;33m)\u001b[0m\u001b[1;33m\u001b[0m\u001b[0m\n\u001b[0m\u001b[0;32m    105\u001b[0m \u001b[1;33m\u001b[0m\u001b[0m\n\u001b[0;32m    106\u001b[0m \u001b[1;32mdef\u001b[0m \u001b[0maction_usage_exact\u001b[0m\u001b[1;33m(\u001b[0m\u001b[0mdf\u001b[0m\u001b[1;33m,\u001b[0m\u001b[0mcolumn\u001b[0m\u001b[1;33m,\u001b[0m\u001b[0maction\u001b[0m\u001b[1;33m)\u001b[0m\u001b[1;33m:\u001b[0m\u001b[1;33m\u001b[0m\u001b[0m\n",
      "\u001b[1;32mC:\\Users\\sperez8\\AppData\\Local\\Continuum\\Anaconda2\\lib\\site-packages\\pandas\\core\\frame.pyc\u001b[0m in \u001b[0;36m__getitem__\u001b[1;34m(self, key)\u001b[0m\n\u001b[0;32m   1995\u001b[0m             \u001b[1;32mreturn\u001b[0m \u001b[0mself\u001b[0m\u001b[1;33m.\u001b[0m\u001b[0m_getitem_multilevel\u001b[0m\u001b[1;33m(\u001b[0m\u001b[0mkey\u001b[0m\u001b[1;33m)\u001b[0m\u001b[1;33m\u001b[0m\u001b[0m\n\u001b[0;32m   1996\u001b[0m         \u001b[1;32melse\u001b[0m\u001b[1;33m:\u001b[0m\u001b[1;33m\u001b[0m\u001b[0m\n\u001b[1;32m-> 1997\u001b[1;33m             \u001b[1;32mreturn\u001b[0m \u001b[0mself\u001b[0m\u001b[1;33m.\u001b[0m\u001b[0m_getitem_column\u001b[0m\u001b[1;33m(\u001b[0m\u001b[0mkey\u001b[0m\u001b[1;33m)\u001b[0m\u001b[1;33m\u001b[0m\u001b[0m\n\u001b[0m\u001b[0;32m   1998\u001b[0m \u001b[1;33m\u001b[0m\u001b[0m\n\u001b[0;32m   1999\u001b[0m     \u001b[1;32mdef\u001b[0m \u001b[0m_getitem_column\u001b[0m\u001b[1;33m(\u001b[0m\u001b[0mself\u001b[0m\u001b[1;33m,\u001b[0m \u001b[0mkey\u001b[0m\u001b[1;33m)\u001b[0m\u001b[1;33m:\u001b[0m\u001b[1;33m\u001b[0m\u001b[0m\n",
      "\u001b[1;32mC:\\Users\\sperez8\\AppData\\Local\\Continuum\\Anaconda2\\lib\\site-packages\\pandas\\core\\frame.pyc\u001b[0m in \u001b[0;36m_getitem_column\u001b[1;34m(self, key)\u001b[0m\n\u001b[0;32m   2002\u001b[0m         \u001b[1;31m# get column\u001b[0m\u001b[1;33m\u001b[0m\u001b[1;33m\u001b[0m\u001b[0m\n\u001b[0;32m   2003\u001b[0m         \u001b[1;32mif\u001b[0m \u001b[0mself\u001b[0m\u001b[1;33m.\u001b[0m\u001b[0mcolumns\u001b[0m\u001b[1;33m.\u001b[0m\u001b[0mis_unique\u001b[0m\u001b[1;33m:\u001b[0m\u001b[1;33m\u001b[0m\u001b[0m\n\u001b[1;32m-> 2004\u001b[1;33m             \u001b[1;32mreturn\u001b[0m \u001b[0mself\u001b[0m\u001b[1;33m.\u001b[0m\u001b[0m_get_item_cache\u001b[0m\u001b[1;33m(\u001b[0m\u001b[0mkey\u001b[0m\u001b[1;33m)\u001b[0m\u001b[1;33m\u001b[0m\u001b[0m\n\u001b[0m\u001b[0;32m   2005\u001b[0m \u001b[1;33m\u001b[0m\u001b[0m\n\u001b[0;32m   2006\u001b[0m         \u001b[1;31m# duplicate columns & possible reduce dimensionality\u001b[0m\u001b[1;33m\u001b[0m\u001b[1;33m\u001b[0m\u001b[0m\n",
      "\u001b[1;32mC:\\Users\\sperez8\\AppData\\Local\\Continuum\\Anaconda2\\lib\\site-packages\\pandas\\core\\generic.pyc\u001b[0m in \u001b[0;36m_get_item_cache\u001b[1;34m(self, item)\u001b[0m\n\u001b[0;32m   1348\u001b[0m         \u001b[0mres\u001b[0m \u001b[1;33m=\u001b[0m \u001b[0mcache\u001b[0m\u001b[1;33m.\u001b[0m\u001b[0mget\u001b[0m\u001b[1;33m(\u001b[0m\u001b[0mitem\u001b[0m\u001b[1;33m)\u001b[0m\u001b[1;33m\u001b[0m\u001b[0m\n\u001b[0;32m   1349\u001b[0m         \u001b[1;32mif\u001b[0m \u001b[0mres\u001b[0m \u001b[1;32mis\u001b[0m \u001b[0mNone\u001b[0m\u001b[1;33m:\u001b[0m\u001b[1;33m\u001b[0m\u001b[0m\n\u001b[1;32m-> 1350\u001b[1;33m             \u001b[0mvalues\u001b[0m \u001b[1;33m=\u001b[0m \u001b[0mself\u001b[0m\u001b[1;33m.\u001b[0m\u001b[0m_data\u001b[0m\u001b[1;33m.\u001b[0m\u001b[0mget\u001b[0m\u001b[1;33m(\u001b[0m\u001b[0mitem\u001b[0m\u001b[1;33m)\u001b[0m\u001b[1;33m\u001b[0m\u001b[0m\n\u001b[0m\u001b[0;32m   1351\u001b[0m             \u001b[0mres\u001b[0m \u001b[1;33m=\u001b[0m \u001b[0mself\u001b[0m\u001b[1;33m.\u001b[0m\u001b[0m_box_item_values\u001b[0m\u001b[1;33m(\u001b[0m\u001b[0mitem\u001b[0m\u001b[1;33m,\u001b[0m \u001b[0mvalues\u001b[0m\u001b[1;33m)\u001b[0m\u001b[1;33m\u001b[0m\u001b[0m\n\u001b[0;32m   1352\u001b[0m             \u001b[0mcache\u001b[0m\u001b[1;33m[\u001b[0m\u001b[0mitem\u001b[0m\u001b[1;33m]\u001b[0m \u001b[1;33m=\u001b[0m \u001b[0mres\u001b[0m\u001b[1;33m\u001b[0m\u001b[0m\n",
      "\u001b[1;32mC:\\Users\\sperez8\\AppData\\Local\\Continuum\\Anaconda2\\lib\\site-packages\\pandas\\core\\internals.pyc\u001b[0m in \u001b[0;36mget\u001b[1;34m(self, item, fastpath)\u001b[0m\n\u001b[0;32m   3288\u001b[0m \u001b[1;33m\u001b[0m\u001b[0m\n\u001b[0;32m   3289\u001b[0m             \u001b[1;32mif\u001b[0m \u001b[1;32mnot\u001b[0m \u001b[0misnull\u001b[0m\u001b[1;33m(\u001b[0m\u001b[0mitem\u001b[0m\u001b[1;33m)\u001b[0m\u001b[1;33m:\u001b[0m\u001b[1;33m\u001b[0m\u001b[0m\n\u001b[1;32m-> 3290\u001b[1;33m                 \u001b[0mloc\u001b[0m \u001b[1;33m=\u001b[0m \u001b[0mself\u001b[0m\u001b[1;33m.\u001b[0m\u001b[0mitems\u001b[0m\u001b[1;33m.\u001b[0m\u001b[0mget_loc\u001b[0m\u001b[1;33m(\u001b[0m\u001b[0mitem\u001b[0m\u001b[1;33m)\u001b[0m\u001b[1;33m\u001b[0m\u001b[0m\n\u001b[0m\u001b[0;32m   3291\u001b[0m             \u001b[1;32melse\u001b[0m\u001b[1;33m:\u001b[0m\u001b[1;33m\u001b[0m\u001b[0m\n\u001b[0;32m   3292\u001b[0m                 \u001b[0mindexer\u001b[0m \u001b[1;33m=\u001b[0m \u001b[0mnp\u001b[0m\u001b[1;33m.\u001b[0m\u001b[0marange\u001b[0m\u001b[1;33m(\u001b[0m\u001b[0mlen\u001b[0m\u001b[1;33m(\u001b[0m\u001b[0mself\u001b[0m\u001b[1;33m.\u001b[0m\u001b[0mitems\u001b[0m\u001b[1;33m)\u001b[0m\u001b[1;33m)\u001b[0m\u001b[1;33m[\u001b[0m\u001b[0misnull\u001b[0m\u001b[1;33m(\u001b[0m\u001b[0mself\u001b[0m\u001b[1;33m.\u001b[0m\u001b[0mitems\u001b[0m\u001b[1;33m)\u001b[0m\u001b[1;33m]\u001b[0m\u001b[1;33m\u001b[0m\u001b[0m\n",
      "\u001b[1;32mC:\\Users\\sperez8\\AppData\\Local\\Continuum\\Anaconda2\\lib\\site-packages\\pandas\\indexes\\base.pyc\u001b[0m in \u001b[0;36mget_loc\u001b[1;34m(self, key, method, tolerance)\u001b[0m\n\u001b[0;32m   1945\u001b[0m                 \u001b[1;32mreturn\u001b[0m \u001b[0mself\u001b[0m\u001b[1;33m.\u001b[0m\u001b[0m_engine\u001b[0m\u001b[1;33m.\u001b[0m\u001b[0mget_loc\u001b[0m\u001b[1;33m(\u001b[0m\u001b[0mkey\u001b[0m\u001b[1;33m)\u001b[0m\u001b[1;33m\u001b[0m\u001b[0m\n\u001b[0;32m   1946\u001b[0m             \u001b[1;32mexcept\u001b[0m \u001b[0mKeyError\u001b[0m\u001b[1;33m:\u001b[0m\u001b[1;33m\u001b[0m\u001b[0m\n\u001b[1;32m-> 1947\u001b[1;33m                 \u001b[1;32mreturn\u001b[0m \u001b[0mself\u001b[0m\u001b[1;33m.\u001b[0m\u001b[0m_engine\u001b[0m\u001b[1;33m.\u001b[0m\u001b[0mget_loc\u001b[0m\u001b[1;33m(\u001b[0m\u001b[0mself\u001b[0m\u001b[1;33m.\u001b[0m\u001b[0m_maybe_cast_indexer\u001b[0m\u001b[1;33m(\u001b[0m\u001b[0mkey\u001b[0m\u001b[1;33m)\u001b[0m\u001b[1;33m)\u001b[0m\u001b[1;33m\u001b[0m\u001b[0m\n\u001b[0m\u001b[0;32m   1948\u001b[0m \u001b[1;33m\u001b[0m\u001b[0m\n\u001b[0;32m   1949\u001b[0m         \u001b[0mindexer\u001b[0m \u001b[1;33m=\u001b[0m \u001b[0mself\u001b[0m\u001b[1;33m.\u001b[0m\u001b[0mget_indexer\u001b[0m\u001b[1;33m(\u001b[0m\u001b[1;33m[\u001b[0m\u001b[0mkey\u001b[0m\u001b[1;33m]\u001b[0m\u001b[1;33m,\u001b[0m \u001b[0mmethod\u001b[0m\u001b[1;33m=\u001b[0m\u001b[0mmethod\u001b[0m\u001b[1;33m,\u001b[0m \u001b[0mtolerance\u001b[0m\u001b[1;33m=\u001b[0m\u001b[0mtolerance\u001b[0m\u001b[1;33m)\u001b[0m\u001b[1;33m\u001b[0m\u001b[0m\n",
      "\u001b[1;32mpandas\\index.pyx\u001b[0m in \u001b[0;36mpandas.index.IndexEngine.get_loc (pandas\\index.c:4154)\u001b[1;34m()\u001b[0m\n",
      "\u001b[1;32mpandas\\index.pyx\u001b[0m in \u001b[0;36mpandas.index.IndexEngine.get_loc (pandas\\index.c:4018)\u001b[1;34m()\u001b[0m\n",
      "\u001b[1;32mpandas\\hashtable.pyx\u001b[0m in \u001b[0;36mpandas.hashtable.PyObjectHashTable.get_item (pandas\\hashtable.c:12368)\u001b[1;34m()\u001b[0m\n",
      "\u001b[1;32mpandas\\hashtable.pyx\u001b[0m in \u001b[0;36mpandas.hashtable.PyObjectHashTable.get_item (pandas\\hashtable.c:12322)\u001b[1;34m()\u001b[0m\n",
      "\u001b[1;31mKeyError\u001b[0m: 'Time_seconds'"
     ]
    },
    {
     "data": {
      "image/png": "[encoded data removed]",
      "text/plain": [
       "<matplotlib.figure.Figure at 0xc587f28>"
      ]
     },
     "metadata": {},
     "output_type": "display_data"
    }
   ],
   "source": [
    "plot(to_plot,colors, column_to_use, function_to_use)"
   ]
  },
  {
   "cell_type": "markdown",
   "metadata": {},
   "source": [
    "The black vertical bar in the graph shows when a \"new case\" is presented"
   ]
  },
  {
   "cell_type": "markdown",
   "metadata": {
    "collapsed": true
   },
   "source": [
    "# The actual plot we want"
   ]
  },
  {
   "cell_type": "code",
   "execution_count": null,
   "metadata": {
    "collapsed": false
   },
   "outputs": [],
   "source": [
    "def regex_extrapolated_range(case_max1,case_min1,case_max2,case_min2):\n",
    "    pattern = \"(?:st\\d+ {0} \\- {1} st\\d+ {2} \\- {3}|st\\d+ {2} \\- {3} st\\d+ {0} \\- {1}) st3 Step[12] [x\\+\\-\\\\\\\\] Step[12]\".format(case_max1,case_min1,case_max2,case_min2)\n",
    "    return pattern\n",
    "\n",
    "def extrapolated_range_usage(df):\n",
    "    usage = []\n",
    "    cases = all_cases(df)\n",
    "    for case,coords in cases.items():\n",
    "        start = coords[0]\n",
    "        end = coords[1]\n",
    "        \n",
    "        lcase = case[0].split(\" \")\n",
    "        rcase = case[1].split(\" \")\n",
    "        lcase.sort()\n",
    "        rcase.sort()\n",
    "        \n",
    "        #find min and maxes of cases for the regex\n",
    "        lmin1,lmin2,lmax2,lmax1 = lcase[0],lcase[1],lcase[-2],lcase[-1]\n",
    "        rmin1,rmin2,rmax2,rmax1 = rcase[0],rcase[1],rcase[-2],rcase[-1]\n",
    "        \n",
    "        #get all times that the range is used somewhere the method\n",
    "        range1 = action_usage(df,'Cleaned method 1',regex_extrapolated_range(lmax1,lmin1,lmax2,lmin2))\n",
    "        range2 = action_usage(df,'Cleaned method 2',regex_extrapolated_range(rmax1,rmin1,rmax2,rmin2))\n",
    "\n",
    "#         print case, coords[0], coords[0]+coords[1]\n",
    "#         print \"rangel1:\", regex_extrapolated_range(lmin1,lmax1)\n",
    "#         print \"rangel2:\", regex_extrapolated_range(lmin2,lmax2)\n",
    "#         print \"ranger1:\", regex_extrapolated_range(rmin1,rmax1)\n",
    "#         print \"ranger2:\", regex_extrapolated_range(rmin2,rmax2)\n",
    "        \n",
    "        # and keep only the times that fall within the current case\n",
    "        range1_for_case = intersect_usage(range1,[coords])\n",
    "        range2_for_case = intersect_usage(range2,[coords])\n",
    "\n",
    "        # Merge when it's used on both cases\n",
    "        usage.extend(clean_coords(merge_usage(range1_for_case,range2_for_case)))\n",
    "\n",
    "    usage.sort()\n",
    "    return usage\n",
    "\n",
    "extrapolated_range_usage(df_test)"
   ]
  },
  {
   "cell_type": "code",
   "execution_count": null,
   "metadata": {
    "collapsed": false
   },
   "outputs": [],
   "source": [
    "colors = {\"Now try working on this new example\":\"#252525\",\n",
    "         \"intuition\": \"#969696\",\n",
    "         \"single value\": \"red\",\n",
    "         'Central tendency': \"#33a02c\",\n",
    "         'extrapolated range': \"#6a3d9a\",\n",
    "#          'Average': \"#6a3d9a\",\n",
    "#          'Sum': \"#1f78b4\",\n",
    "          'Count gaps': \"#1f78b4\",\n",
    "          'range': \"#1f78b4\",\n",
    "         'all': \"#ff7f00\",\n",
    "         'evaluation steps': \"#525252\",\n",
    "        }\n",
    "column_to_use = {\"Now try working on this new example\":\"Feedback Text\",\n",
    "                 \"intuition\": \"Selection\",\n",
    "                 \"submit\": \"Selection\",\n",
    "                 \"evaluation\": \"Selection\",\n",
    "                 \"checkIntuition\": \"Selection\",\n",
    "                 'Median': 'Cleaned method 1',\n",
    "                 'Average': 'Cleaned method 1',\n",
    "                 'Sum': 'Cleaned method 1',\n",
    "                 'all': 'Cleaned method 1',\n",
    "                }\n",
    "\n",
    "function_to_use = {\"single value\":single_value_usage,\n",
    "                   \"Central tendency\":central_tendency_usage,\n",
    "                   \"range\":range_usage,\n",
    "                   \"extrapolated range\":extrapolated_range_usage,\n",
    "                   \"Count gaps\":count_gaps_usage,\n",
    "                   \"evaluation steps\":evaluation_steps_usage}\n",
    "\n",
    "to_plot = [\"intuition\",'single value','Central tendency','range',\"extrapolated range\",\"Count gaps\",\"evaluation steps\"]"
   ]
  },
  {
   "cell_type": "code",
   "execution_count": null,
   "metadata": {
    "collapsed": false
   },
   "outputs": [],
   "source": [
    "plot(to_plot,colors, column_to_use, function_to_use)"
   ]
  },
  {
   "cell_type": "markdown",
   "metadata": {},
   "source": [
    "## Adding in count gaps"
   ]
  },
  {
   "cell_type": "code",
   "execution_count": null,
   "metadata": {
    "collapsed": false,
    "scrolled": true
   },
   "outputs": [],
   "source": [
    "df_gaps = prepare_session(df_all,'L-10f11766:120ecd4f63a:-8000')"
   ]
  },
  {
   "cell_type": "code",
   "execution_count": null,
   "metadata": {
    "collapsed": false
   },
   "outputs": [],
   "source": [
    "def regex_count_gaps(gapvalues):\n",
    "    pattern = \"st\\d+ Count( choose...)?[( {0})]+\".format(')( '.join(gapvalues))\n",
    "    print pattern\n",
    "    return pattern\n",
    "\n",
    "def count_gaps_usage(df):\n",
    "    usage = []\n",
    "    cases = all_cases(df)\n",
    "    for case,coords in cases.items():\n",
    "        start = coords[0]\n",
    "        end = coords[1]\n",
    "        \n",
    "        lcase = case[0].split(\" \")\n",
    "        rcase = case[1].split(\" \")\n",
    "        lcase.sort()\n",
    "        rcase.sort()\n",
    "        \n",
    "        #get gap values for the regex\n",
    "        gapvalues_left = set(range( int(min(lcase)) , int(max(lcase)) )) - set([int(x) for x in lcase]) \n",
    "        gapvalues_right = set(range( int(min(rcase)) , int(max(rcase)) )) - set([int(x) for x in rcase]) \n",
    "        \n",
    "        \n",
    "        print lcase,  set([int(str(x)) for x in lcase])\n",
    "        print 'gap', gapvalues_left \n",
    "        print rcase\n",
    "        print 'gap', gapvalues_right\n",
    "        print '\\n'\n",
    "        \n",
    "        #get all times that the range is used somewhere the method\n",
    "        range1 = action_usage(df,'Cleaned method 1',regex_count_gaps([str(x) for x in gapvalues_left]))\n",
    "        range2 = action_usage(df,'Cleaned method 2',regex_count_gaps([str(x) for x in gapvalues_right]))\n",
    "\n",
    "#         print case, coords[0], coords[0]+coords[1]\n",
    "#         print \"rangel1:\", regex_count_gaps(lmin1,lmax1)\n",
    "#         print \"rangel2:\", regex_count_gaps(lmin2,lmax2)\n",
    "#         print \"ranger1:\", regex_count_gaps(rmin1,rmax1)\n",
    "#         print \"ranger2:\", regex_count_gaps(rmin2,rmax2)\n",
    "        \n",
    "        # and keep only the times that fall within the current case\n",
    "        range1_for_case = intersect_usage(range1,[coords])\n",
    "        range2_for_case = intersect_usage(range2,[coords])\n",
    "\n",
    "        # Merge when it's used on both cases\n",
    "        usage.extend(clean_coords(merge_usage(range1_for_case,range2_for_case)))\n",
    "\n",
    "    usage.sort()\n",
    "    return usage\n",
    "\n",
    "count_gaps_usage(df_gaps)"
   ]
  },
  {
   "cell_type": "code",
   "execution_count": null,
   "metadata": {
    "collapsed": false
   },
   "outputs": [],
   "source": [
    "plot(to_plot,colors, column_to_use, function_to_use)"
   ]
  },
  {
   "cell_type": "markdown",
   "metadata": {
    "collapsed": true
   },
   "source": [
    "### TODO\n",
    "Ordered in some kind of general priority (in terms of need of feedback and desired feature)\n",
    "* start implementing categories that are under “option 4” in the coding document (see copy below from May 29th)\n",
    "* display method at \"max\", after a submit or delete all/reset\n",
    "* add case data to graph\n",
    "* display method at \"max\", after a submit or delete all/reset\n",
    "* merge evaluation and checkintuition\n",
    "* Indicate when current method could be used to “crack” or solve the contrasting cases. (‘when it works’) => correct order. \n",
    "\n",
    "### Overall graph structure:\n",
    "Row 1: intuition\n",
    "Rows 2-n: methods\n",
    "Plot “build” events (any click in that part of the interface).\n",
    "Below, show the method in writing.\n",
    "Row n+1: Submit\n",
    "Row n+2: Evaluation (merge Evaluate, Check Intuition).\n",
    "Later consider merging “submit” into this. \n",
    " \n",
    "Plot building events, not durations \n",
    "Pauses become gaps. \n",
    "\n",
    "\n",
    "\n",
    "#### Categories\n",
    "1. single value -DONE\n",
    "* Central tendency, ready made -DONE\n",
    "* Combination of ready made, random\n",
    "* Range 6 - 1\n",
    "* Count gaps (if numbers are 1 4 4 6)\n",
    "    * click all empty points within range - 2 3 5\n",
    "    * click all empty points within the largest gap - 2 3\n",
    "* Extrapolated range\n",
    "    * Inner range 4-4 - single step method\n",
    "    * Any method that uses more than extreme values, and some form of subtraction. \n",
    "        * Recursive range (6-1) +/- (4-4)\n",
    "        * All pairwise ranges (6-1, 6-4, 4-4, 4-1)\n",
    "* extrapolated range + count all\n",
    "* Canonical\n"
   ]
  },
  {
   "cell_type": "code",
   "execution_count": null,
   "metadata": {
    "collapsed": true
   },
   "outputs": [],
   "source": []
  }
 ],
 "metadata": {
  "anaconda-cloud": {},
  "kernelspec": {
   "display_name": "Python [Root]",
   "language": "python",
   "name": "Python [Root]"
  },
  "language_info": {
   "codemirror_mode": {
    "name": "ipython",
    "version": 2
   },
   "file_extension": ".py",
   "mimetype": "text/x-python",
   "name": "python",
   "nbconvert_exporter": "python",
   "pygments_lexer": "ipython2",
   "version": "2.7.12"
  }
 },
 "nbformat": 4,
 "nbformat_minor": 1
}
