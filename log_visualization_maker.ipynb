{
 "cells": [
  {
   "cell_type": "code",
   "execution_count": 1,
   "metadata": {
    "collapsed": true
   },
   "outputs": [],
   "source": [
    "%load_ext autoreload\n",
    "%autoreload 1"
   ]
  },
  {
   "cell_type": "code",
   "execution_count": 2,
   "metadata": {
    "collapsed": true
   },
   "outputs": [],
   "source": [
    "import numpy as np\n",
    "import pandas as pd\n",
    "import matplotlib.pyplot as plt\n",
    "import seaborn as sns\n",
    "%matplotlib inline\n",
    "pd.options.display.max_rows = 1000\n",
    "pd.options.display.max_columns = 60"
   ]
  },
  {
   "cell_type": "code",
   "execution_count": null,
   "metadata": {
    "collapsed": true
   },
   "outputs": [],
   "source": [
    "#utils.py is where all our custorm functions live is we set an autoreload on it.\n",
    "%aimport utils \n",
    "from utils import *"
   ]
  },
  {
   "cell_type": "markdown",
   "metadata": {},
   "source": [
    "# The data"
   ]
  },
  {
   "cell_type": "code",
   "execution_count": null,
   "metadata": {
    "collapsed": true
   },
   "outputs": [],
   "source": [
    "df_all = pd.read_excel('all data v3.xlsx', 'iLab data.txt', index_col=None, na_values=['NA'])"
   ]
  },
  {
   "cell_type": "markdown",
   "metadata": {},
   "source": [
    "### Preparing a test sample\n",
    "Let's first use a particular session as a test case. We extract only the data relevant to that case"
   ]
  },
  {
   "cell_type": "code",
   "execution_count": null,
   "metadata": {},
   "outputs": [],
   "source": [
    "df_test = prepare_session(df_all,'L-2567b17a:120eda25685:-8000')\n",
    "df_gaps = prepare_session(df_all,'L-10f11766:120ecd4f63a:-8000')"
   ]
  },
  {
   "cell_type": "markdown",
   "metadata": {},
   "source": [
    "# The plot"
   ]
  },
  {
   "cell_type": "code",
   "execution_count": null,
   "metadata": {
    "collapsed": true
   },
   "outputs": [],
   "source": [
    "colors = {\"Cases\":\"white\",\n",
    "         \"Now try working on this new example\":\"#252525\",\n",
    "         \"intuition\": \"#969696\",\n",
    "         \"Single value\": \"red\",\n",
    "         'Central tendency': \"#33a02c\",\n",
    "         'Distance': \"#6a3d9a\",\n",
    "#          'Average': \"#6a3d9a\",\n",
    "#          'Sum': \"#1f78b4\",\n",
    "          'Count gaps': \"red\",\n",
    "          'Range': \"#1f78b4\",\n",
    "         'Count all': \"#ff7f00\",\n",
    "         'evaluation steps': \"#525252\",\n",
    "          'submit': \"#525252\",\n",
    "          \"Build\":'black',\n",
    "          \"deleteAll\":'black',\n",
    "        }\n",
    "column_to_use = {\"Now try working on this new example\":\"Feedback Text\",\n",
    "                 \"intuition\": \"Selection\",\n",
    "                 \"submit\": \"Selection\",\n",
    "                 \"evaluation\": \"Selection\",\n",
    "                 \"checkIntuition\": \"Selection\",\n",
    "                 'Median': 'Cleaned method 1',\n",
    "                 'Average': 'Cleaned method 1',\n",
    "                 'Sum': 'Cleaned method 1',\n",
    "                 'Count all': 'Cleaned method 1',\n",
    "                 \"deleteAll\":\"Selection\",\n",
    "                }\n",
    "\n",
    "function_to_use = {\"Cases\":case_usage,\n",
    "                   \"Single value\":single_value_usage,\n",
    "                   \"Central tendency\":central_tendency_usage,\n",
    "                   \"Range\":range_usage,\n",
    "                   \"Distance\":distance_usage,\n",
    "                   \"Count gaps\":count_gaps_usage,\n",
    "                   \"Build\": build_events,\n",
    "                   \"evaluation steps\":evaluation_steps_usage,}\n",
    "\n",
    "to_plot = [\"Cases\",\"intuition\",'Single value','Central tendency',\"Count all\",\"Count gaps\",'Range',\"Distance\",\"Build\",\"deleteAll\",\"submit\",\"evaluation steps\"]"
   ]
  },
  {
   "cell_type": "code",
   "execution_count": null,
   "metadata": {
    "collapsed": true
   },
   "outputs": [],
   "source": [
    "def plot(df,to_plot,colors, column_to_use, function_to_use):\n",
    "    fig = plt.figure(figsize=(18,9))\n",
    "    ax = plt.subplot()\n",
    "    spacing =10\n",
    "    pos = 0\n",
    "    max_time = 0\n",
    "    actions = list(reversed(to_plot))\n",
    "    black = '#252525'\n",
    "    for i,action in enumerate(actions):\n",
    "        if action == \"Cases\":\n",
    "            cases = all_cases(df)\n",
    "            for case,coords in all_cases(df).items():\n",
    "                left = [float(x) for x in case[0].split(\" \")]\n",
    "                right = [float(x) for x in case[1].split(\" \")]\n",
    "                ymax = max(max(left),max(right))\n",
    "                ymin = min(min(left),min(right))\n",
    "                Xl = [coords[0]+30]*len(left)\n",
    "                Yl = [l/(ymax)*(spacing-2.5)+1+pos for l in left]\n",
    "                Xr = [coords[0]+30+20]*len(right)\n",
    "                Yr = [r/(ymax)*(spacing-2.5)+1+pos for r in right]\n",
    "                ax.plot(Xl,Yl,'.',color=\"darkgrey\",markersize=10)\n",
    "                ax.plot(Xr,Yr,'.',color=\"darkgrey\",markersize=10)\n",
    "        if action in column_to_use.keys():\n",
    "            action_use = action_usage(df,column_to_use[action],action)\n",
    "        else:\n",
    "            action_use = function_to_use[action](df)\n",
    "        if action_use:\n",
    "            max_time = max(max_time,sum(action_use[-1]))\n",
    "            ax.broken_barh(action_use,(pos,spacing),facecolors=colors[action],alpha=1,linewidth=0)\n",
    "        pos += spacing\n",
    "\n",
    "#     #Add text of method\n",
    "#     action_use = action_usage(df,column_to_use['submit'],'submit')\n",
    "#     methods = []\n",
    "#     i = -3\n",
    "#     for (x,y) in action_use: \n",
    "#         ax.text(x,i,'M',fontsize=12)\n",
    "#         i= i-3\n",
    "#         if i <-13:\n",
    "#             i = -3\n",
    "\n",
    "\n",
    "\n",
    "#     #Add horizontal bar\n",
    "#     ax.broken_barh([(0,ax.get_xlim()[1])],((len(actions))*spacing,spacing),facecolors='white',alpha=1,linewidth=0)\n",
    "\n",
    "    #Add new case bar\n",
    "    new_case = \"Now try working on this new example\"\n",
    "    action_use = action_usage(df,column_to_use[new_case],new_case)\n",
    "    case_use = [(x,10) for (x,y) in action_use]+[(0,10)]\n",
    "    max_time = max(max_time,sum(action_use[-1]))\n",
    "    ax.broken_barh(case_use,(0,(len(actions))*spacing),facecolors=\"white\",alpha=1,linewidth=0)\n",
    "\n",
    "    #Add levaels\n",
    "    ax.set_xlabel('minutes in activity',fontsize=13)\n",
    "    ax.set_xticks(range(0,int(max_time),60))\n",
    "    ax.set_xticklabels([str(x/60)+''if x in range(0,int(max_time),60*5) else \"\" for x in range(0,int(max_time),60)],fontsize=13)\n",
    "    ax.set_yticks(range(spacing/2,len(actions)*spacing,spacing))\n",
    "    ax.set_yticklabels([a.capitalize() for a in actions],fontsize=15)\n",
    "    ax.grid(True)\n",
    "    plt.show()"
   ]
  },
  {
   "cell_type": "markdown",
   "metadata": {},
   "source": [
    "### Session with gap counting"
   ]
  },
  {
   "cell_type": "code",
   "execution_count": null,
   "metadata": {},
   "outputs": [],
   "source": [
    "plot(df_gaps,to_plot,colors, column_to_use, function_to_use)"
   ]
  },
  {
   "cell_type": "code",
   "execution_count": null,
   "metadata": {
    "collapsed": true
   },
   "outputs": [],
   "source": []
  },
  {
   "cell_type": "code",
   "execution_count": null,
   "metadata": {
    "collapsed": true
   },
   "outputs": [],
   "source": []
  },
  {
   "cell_type": "code",
   "execution_count": null,
   "metadata": {},
   "outputs": [],
   "source": [
    "plot(df_gaps,to_plot,colors, column_to_use, function_to_use)"
   ]
  },
  {
   "cell_type": "markdown",
   "metadata": {},
   "source": [
    "### Session with range and extrapolated range"
   ]
  },
  {
   "cell_type": "code",
   "execution_count": null,
   "metadata": {
    "scrolled": false
   },
   "outputs": [],
   "source": [
    "plot(df_test,to_plot,colors, column_to_use, function_to_use)"
   ]
  },
  {
   "cell_type": "markdown",
   "metadata": {
    "collapsed": true
   },
   "source": [
    "### TO DO\n",
    "#### Ordered in some kind of general priority (in terms of need of feedback and desired feature)\n",
    "1. central tendency (average median sum) - add \"choose 2 4 5 7\" in regex\n",
    "* add Other category\n",
    "* Show the method that eventually “cracks” the cases (succeeds to solve and move on)\n",
    "* fix visual component of build, delete and submit\n",
    "* clean visual - embellish\n",
    "* run on all 9 student pairs\n",
    "\n",
    "#### What can invention be? (Rename as Other)  - Two options:\n",
    "1. Lots of differernt pre-set possibilities \n",
    "    * Anytime they use addition within a step?\n",
    "    * Anytime they use multiplication\n",
    "    * Use a combination of central tendency\n",
    "    * Use a combination of methods (range and mean)\n",
    "2. Any method that isn't other methods\n",
    "    * after removing chuncks that fit our methods, is there anything left?\n",
    "    * or\n",
    "    * anything that has more than two steps subtracting time coords of methods.\n"
   ]
  },
  {
   "cell_type": "code",
   "execution_count": null,
   "metadata": {
    "collapsed": true
   },
   "outputs": [],
   "source": []
  }
 ],
 "metadata": {
  "anaconda-cloud": {},
  "kernelspec": {
   "display_name": "Python 2",
   "language": "python",
   "name": "python2"
  },
  "language_info": {
   "codemirror_mode": {
    "name": "ipython",
    "version": 2
   },
   "file_extension": ".py",
   "mimetype": "text/x-python",
   "name": "python",
   "nbconvert_exporter": "python",
   "pygments_lexer": "ipython2",
   "version": "2.7.13"
  }
 },
 "nbformat": 4,
 "nbformat_minor": 1
}
