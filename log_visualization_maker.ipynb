{
 "cells": [
  {
   "cell_type": "code",
   "execution_count": 1,
   "metadata": {
    "collapsed": true
   },
   "outputs": [],
   "source": [
    "%load_ext autoreload\n",
    "%autoreload 1"
   ]
  },
  {
   "cell_type": "code",
   "execution_count": 2,
   "metadata": {
    "collapsed": true
   },
   "outputs": [],
   "source": [
    "import numpy as np\n",
    "import pandas as pd\n",
    "import matplotlib.pyplot as plt\n",
    "import seaborn as sns\n",
    "%matplotlib inline\n",
    "pd.options.display.max_rows = 1000\n",
    "pd.options.display.max_columns = 60"
   ]
  },
  {
   "cell_type": "code",
   "execution_count": 14,
   "metadata": {
    "collapsed": true
   },
   "outputs": [],
   "source": [
    "#utils.py is where all our custorm functions live is we set an autoreload on it.\n",
    "%aimport utils \n",
    "from utils import *"
   ]
  },
  {
   "cell_type": "code",
   "execution_count": 15,
   "metadata": {},
   "outputs": [],
   "source": [
    "import matplotlib\n",
    "font = {'family' : 'normal',\n",
    "        'size'   : 25}\n",
    "\n",
    "matplotlib.rc('font', **font)"
   ]
  },
  {
   "cell_type": "markdown",
   "metadata": {},
   "source": [
    "# The data"
   ]
  },
  {
   "cell_type": "code",
   "execution_count": 16,
   "metadata": {
    "collapsed": true
   },
   "outputs": [],
   "source": [
    "df_all = pd.read_excel('all data v3.xlsx', 'iLab data.txt', index_col=None, na_values=['NA'])"
   ]
  },
  {
   "cell_type": "markdown",
   "metadata": {},
   "source": [
    "### Preparing a test sample\n",
    "Let's first use a particular session as a test case. We extract only the data relevant to that case"
   ]
  },
  {
   "cell_type": "code",
   "execution_count": 17,
   "metadata": {},
   "outputs": [
    {
     "name": "stdout",
     "output_type": "stream",
     "text": [
      "After removin 'incorrect' actions, we are left with 212 rows out of 285\n",
      "After removin 'incorrect' actions, we are left with 207 rows out of 288\n"
     ]
    }
   ],
   "source": [
    "df_test = prepare_session(df_all,'L-2567b17a:120eda25685:-8000')\n",
    "df_gaps = prepare_session(df_all,'L-10f11766:120ecd4f63a:-8000')"
   ]
  },
  {
   "cell_type": "markdown",
   "metadata": {},
   "source": [
    "# The plot"
   ]
  },
  {
   "cell_type": "code",
   "execution_count": 32,
   "metadata": {},
   "outputs": [],
   "source": [
    "colors = {\"\":\"white\",\n",
    "         \"Now try working on this new example\":\"#252525\",\n",
    "         \"intuition\": \"#969696\",\n",
    "         \"single value\": \"red\",\n",
    "         'Central tendency': \"#33a02c\",\n",
    "         'extrapolated range': \"#6a3d9a\",\n",
    "#          'Average': \"#6a3d9a\",\n",
    "#          'Sum': \"#1f78b4\",\n",
    "          'Count gaps': \"#1f78b4\",\n",
    "          'range': \"#1f78b4\",\n",
    "         'Count all': \"#ff7f00\",\n",
    "         'evaluation steps': \"#525252\",\n",
    "          \"Build\":'black',\n",
    "        }\n",
    "column_to_use = {\"Now try working on this new example\":\"Feedback Text\",\n",
    "                 \"intuition\": \"Selection\",\n",
    "                 \"submit\": \"Selection\",\n",
    "                 \"evaluation\": \"Selection\",\n",
    "                 \"checkIntuition\": \"Selection\",\n",
    "                 'Median': 'Cleaned method 1',\n",
    "                 'Average': 'Cleaned method 1',\n",
    "                 'Sum': 'Cleaned method 1',\n",
    "                 'Count all': 'Cleaned method 1',\n",
    "                }\n",
    "\n",
    "function_to_use = {\"\":case_usage,\n",
    "                   \"single value\":single_value_usage,\n",
    "                   \"Central tendency\":central_tendency_usage,\n",
    "                   \"range\":range_usage,\n",
    "                   \"extrapolated range\":extrapolated_range_usage,\n",
    "                   \"Count gaps\":count_gaps_usage,\n",
    "                   \"Build\": build_events,\n",
    "                   \"evaluation steps\":evaluation_steps_usage,}\n",
    "\n",
    "to_plot = [\"\",\"intuition\",'single value','Central tendency','range',\"extrapolated range\",\"Count gaps\",'Count all',\"Build\",\"evaluation steps\"]"
   ]
  },
  {
   "cell_type": "code",
   "execution_count": 33,
   "metadata": {
    "collapsed": true
   },
   "outputs": [],
   "source": [
    "def plot(df,to_plot,colors, column_to_use, function_to_use):\n",
    "    fig = plt.figure(figsize=(18,9))\n",
    "    ax = plt.subplot()\n",
    "    spacing =10\n",
    "    pos = 0\n",
    "    max_time = 0\n",
    "    actions = list(reversed(to_plot))\n",
    "    black = '#252525'\n",
    "    for i,action in enumerate(actions):\n",
    "        if action == \"\":\n",
    "            cases = all_cases(df)\n",
    "            for case,coords in all_cases(df).items():\n",
    "                left = [float(x) for x in case[0].split(\" \")]\n",
    "                right = [float(x) for x in case[1].split(\" \")]\n",
    "                ymax = max(max(left),max(right))\n",
    "                ymin = min(min(left),min(right))\n",
    "                Xl = [coords[0]+30]*len(left)\n",
    "                Yl = [l/(ymax)*(spacing-2.5)+1+pos for l in left]\n",
    "                Xr = [coords[0]+30+20]*len(right)\n",
    "                Yr = [r/(ymax)*(spacing-2.5)+1+pos for r in right]\n",
    "                ax.plot(Xl,Yl,'.',color=\"darkgrey\",markersize=10)\n",
    "                ax.plot(Xr,Yr,'.',color=\"darkgrey\",markersize=10)\n",
    "        if action in column_to_use.keys():\n",
    "            action_use = action_usage(df,column_to_use[action],action)\n",
    "        else:\n",
    "            action_use = function_to_use[action](df)\n",
    "        if action_use:\n",
    "            max_time = max(max_time,sum(action_use[-1]))\n",
    "            ax.broken_barh(action_use,(pos,spacing),facecolors=colors[action],alpha=1,linewidth=0)\n",
    "        pos += spacing\n",
    "\n",
    "        \n",
    "#     ax.text(180,-5,'solution 1',fontsize=12)\n",
    "\n",
    "\n",
    "\n",
    "#     #Add horizontal bar\n",
    "#     ax.broken_barh([(0,ax.get_xlim()[1])],((len(actions))*spacing,spacing),facecolors='white',alpha=1,linewidth=0)\n",
    "\n",
    "    #Add new case bar\n",
    "    new_case = \"Now try working on this new example\"\n",
    "    action_use = action_usage(df,column_to_use[new_case],new_case)\n",
    "    case_use = [(x,10) for (x,y) in action_use]+[(0,10)]\n",
    "    max_time = max(max_time,sum(action_use[-1]))\n",
    "    ax.broken_barh(case_use,(0,(len(actions))*spacing),facecolors=\"white\",alpha=1,linewidth=0)\n",
    "\n",
    "    ax.set_xlabel('minutes in activity')\n",
    "    ax.set_xticks(range(0,int(max_time),60))\n",
    "    ax.set_xticklabels([str(x/60)+''if x in range(0,int(max_time),60*5) else \"\" for x in range(0,int(max_time),60)])\n",
    "    ax.set_yticks(range(spacing/2,len(actions)*spacing,spacing))\n",
    "    ax.set_yticklabels(actions)\n",
    "    ax.grid(True)\n",
    "    plt.show()"
   ]
  },
  {
   "cell_type": "markdown",
   "metadata": {},
   "source": [
    "### Session with gap counting"
   ]
  },
  {
   "cell_type": "code",
   "execution_count": 34,
   "metadata": {},
   "outputs": [
    {
     "data": {
      "image/png": "[encoded data removed]",
      "text/plain": [
       "<matplotlib.figure.Figure at 0xdaf1a20>"
      ]
     },
     "metadata": {},
     "output_type": "display_data"
    }
   ],
   "source": [
    "plot(df_gaps,to_plot,colors, column_to_use, function_to_use)"
   ]
  },
  {
   "cell_type": "markdown",
   "metadata": {},
   "source": [
    "### Session with range and extrapolated range"
   ]
  },
  {
   "cell_type": "code",
   "execution_count": 26,
   "metadata": {},
   "outputs": [
    {
     "data": {
      "image/png": "[encoded data removed]",
      "text/plain": [
       "<matplotlib.figure.Figure at 0xc3a8fd0>"
      ]
     },
     "metadata": {},
     "output_type": "display_data"
    }
   ],
   "source": [
    "plot(df_test,to_plot,colors, column_to_use, function_to_use)"
   ]
  },
  {
   "cell_type": "markdown",
   "metadata": {
    "collapsed": true
   },
   "source": [
    "### TODO\n",
    "Ordered in some kind of general priority (in terms of need of feedback and desired feature)\n",
    "* start implementing categories that are under “option 4” in the coding document (see copy below from May 29th)\n",
    "* add build methods\n",
    "* display method at \"max\", after a submit or delete all/reset\n",
    "* Indicate when current method could be used to “crack” or solve the contrasting cases. (‘when it works’) => correct order. \n",
    "\n",
    "### Overall graph structure:\n",
    "Row 1: intuition\n",
    "Rows 2-n: methods\n",
    "Plot “build” events (any click in that part of the interface).\n",
    "Below, show the method in writing.\n",
    "Row n+1: Submit\n",
    "Row n+2: Evaluation (merge Evaluate, Check Intuition).\n",
    "Later consider merging “submit” into this. \n",
    " \n",
    "Plot building events, not durations \n",
    "Pauses become gaps. \n",
    "\n",
    "\n",
    "\n",
    "#### Categories\n",
    "1. single value -DONE\n",
    "* Central tendency, ready made -DONE\n",
    "* Combination of ready made, random -TBD\n",
    "* Range 6 - 1 -DONE\n",
    "* Count gaps (if numbers are 1 4 4 6)\n",
    "    * click all empty points within range - 2 3 5 -DONE\n",
    "    * click all empty points within the largest gap - 2 3\n",
    "* Extrapolated range\n",
    "    * Inner range 4-4 - single step method \n",
    "    * Any method that uses more than extreme values, and some form of subtraction. \n",
    "        * Recursive range (6-1) +/- (4-4) -DONE to 1 layer\n",
    "        * All pairwise ranges (6-1, 6-4, 4-4, 4-1)\n",
    "* count all -DONE\n",
    "* Canonical -Really though?\n"
   ]
  },
  {
   "cell_type": "code",
   "execution_count": null,
   "metadata": {
    "collapsed": true
   },
   "outputs": [],
   "source": []
  }
 ],
 "metadata": {
  "anaconda-cloud": {},
  "kernelspec": {
   "display_name": "Python 2",
   "language": "python",
   "name": "python2"
  },
  "language_info": {
   "codemirror_mode": {
    "name": "ipython",
    "version": 2
   },
   "file_extension": ".py",
   "mimetype": "text/x-python",
   "name": "python",
   "nbconvert_exporter": "python",
   "pygments_lexer": "ipython2",
   "version": "2.7.13"
  }
 },
 "nbformat": 4,
 "nbformat_minor": 1
}
