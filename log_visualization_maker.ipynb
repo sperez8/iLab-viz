{
 "cells": [
  {
   "cell_type": "code",
   "execution_count": 1,
   "metadata": {
    "collapsed": true
   },
   "outputs": [],
   "source": [
    "%load_ext autoreload\n",
    "%autoreload 1"
   ]
  },
  {
   "cell_type": "code",
   "execution_count": 2,
   "metadata": {
    "collapsed": true
   },
   "outputs": [],
   "source": [
    "import numpy as np\n",
    "import pandas as pd\n",
    "import matplotlib.pyplot as plt\n",
    "import seaborn as sns\n",
    "%matplotlib inline\n",
    "pd.options.display.max_rows = 1000\n",
    "pd.options.display.max_columns = 60"
   ]
  },
  {
   "cell_type": "code",
   "execution_count": 4,
   "metadata": {
    "collapsed": false
   },
   "outputs": [],
   "source": [
    "#utils.py is where all our custorm functions live is we set an autoreload on it.\n",
    "%aimport utils \n",
    "from utils import *"
   ]
  },
  {
   "cell_type": "markdown",
   "metadata": {},
   "source": [
    "# The data"
   ]
  },
  {
   "cell_type": "code",
   "execution_count": 5,
   "metadata": {
    "collapsed": true
   },
   "outputs": [],
   "source": [
    "df_all = pd.read_excel('all data v3.xlsx', 'iLab data.txt', index_col=None, na_values=['NA'])"
   ]
  },
  {
   "cell_type": "markdown",
   "metadata": {},
   "source": [
    "### Preparing a test sample\n",
    "Let's first use a particular session as a test case. We extract only the data relevant to that case"
   ]
  },
  {
   "cell_type": "code",
   "execution_count": 6,
   "metadata": {
    "collapsed": true
   },
   "outputs": [],
   "source": [
    "#Using the example used for sketch.\n",
    "#(df_all.condition1 == 'Savanna') & (df_all.student1 == 'penguin') & (df_all.student2 == 'gorilla')]\n",
    "df_test = df_all[df_all['Session Id'] == 'L-2567b17a:120eda25685:-8000']"
   ]
  },
  {
   "cell_type": "markdown",
   "metadata": {},
   "source": [
    "Next we filter out all actions with \"INCORRECT\" outcomes"
   ]
  },
  {
   "cell_type": "code",
   "execution_count": 7,
   "metadata": {
    "collapsed": false
   },
   "outputs": [
    {
     "name": "stdout",
     "output_type": "stream",
     "text": [
      "We are left with 212 rows out of 285\n"
     ]
    }
   ],
   "source": [
    "before = df_test.shape[0]\n",
    "df_test = df_test[df_test['Outcome'] == 'CORRECT']\n",
    "print \"We are left with {0} rows out of {1}\".format(df_test.shape[0],before)"
   ]
  },
  {
   "cell_type": "markdown",
   "metadata": {},
   "source": [
    "### We need to extract the time stamp of each action and it's duration"
   ]
  },
  {
   "cell_type": "markdown",
   "metadata": {},
   "source": [
    "Next we fix the time logs and convert them to seconds. We also recalculate the time between actions now that we have gotten rid of incorrect actions."
   ]
  },
  {
   "cell_type": "code",
   "execution_count": 8,
   "metadata": {
    "collapsed": true
   },
   "outputs": [],
   "source": [
    "time_start = list(df_test['time first action'])[0]\n",
    "df_test['Time_seconds'] = df_test[['Time']].applymap(lambda current_time: fix_time(time_start,current_time))\n",
    "df_test['Timeshifted'] = df_test[['Time']].shift(-1)\n",
    "df_test['Duration'] = df_test[['Time','Timeshifted']].apply(get_duration, axis=1)"
   ]
  },
  {
   "cell_type": "markdown",
   "metadata": {},
   "source": [
    "We also clean up the methods removing annoying characters like \"{\""
   ]
  },
  {
   "cell_type": "code",
   "execution_count": 9,
   "metadata": {
    "collapsed": false
   },
   "outputs": [],
   "source": [
    "df_test['Cleaned method 1'] = df_test[['Method_Recognized_1_Copied']].applymap(lambda method:clean_method(method))\n",
    "df_test['Cleaned method 2'] = df_test[['Method_Recognized_2_Copied']].applymap(lambda method:clean_method(method))"
   ]
  },
  {
   "cell_type": "markdown",
   "metadata": {},
   "source": [
    "We create a column with the data for the contrasting cases"
   ]
  },
  {
   "cell_type": "code",
   "execution_count": 10,
   "metadata": {
    "collapsed": true
   },
   "outputs": [],
   "source": [
    "df_test['cases'] = df_test['CF(new1)'] +','+ df_test['CF(new2)']"
   ]
  },
  {
   "cell_type": "markdown",
   "metadata": {},
   "source": [
    "### A first plot"
   ]
  },
  {
   "cell_type": "code",
   "execution_count": 11,
   "metadata": {
    "collapsed": true
   },
   "outputs": [],
   "source": [
    "def get_evaluation_steps_usage(df):\n",
    "    submit_usage = get_action_usage(df,column_to_use[\"submit\"],\"submit\")\n",
    "    evaluation_usage = get_action_usage(df,column_to_use[\"evaluation\"],\"evaluation\")\n",
    "    checkIntuition_usage = get_action_usage(df,column_to_use[\"checkIntuition\"],\"checkIntuition\")\n",
    "    \n",
    "    ##do some merging\n",
    "    merged1 = merge_usage(submit_usage,evaluation_usage)\n",
    "    merged2 = merge_usage(merged1, checkIntuition_usage)\n",
    "    return merged2"
   ]
  },
  {
   "cell_type": "code",
   "execution_count": 12,
   "metadata": {
    "collapsed": false
   },
   "outputs": [
    {
     "data": {
      "text/plain": [
       "[(0, 1), (3, 1), (10, 1), (12, 1)]"
      ]
     },
     "execution_count": 12,
     "metadata": {},
     "output_type": "execute_result"
    }
   ],
   "source": [
    "x = [(0,1),(3,1),(10,3)] #0,2,3,4,10,11,12\n",
    "y = [(0,2),(2,3),(9,2),(12,2)] #0,1,3,9,10,12,13\n",
    "union_usage(x,y)"
   ]
  },
  {
   "cell_type": "code",
   "execution_count": 23,
   "metadata": {
    "collapsed": false
   },
   "outputs": [
    {
     "data": {
      "text/plain": [
       "[]"
      ]
     },
     "execution_count": 23,
     "metadata": {},
     "output_type": "execute_result"
    }
   ],
   "source": [
    "def get_single_value_usage(df):\n",
    "    method1 = get_action_usage_exact(df,'Cleaned method 1','st1 \\d+$')\n",
    "    method2 = get_action_usage_exact(df,'Cleaned method 2','st1 \\d+$')\n",
    "    return union_usage(method1,method2)\n",
    "\n",
    "get_single_value_usage(df_test)\n",
    "#     method2 = get_action_usage(df,'Method_Recognized_2_Copied','st1 \\d')\n",
    "#     return merge_action_usage(method1,method2)\n",
    "\n",
    "# def get_range_usage(df):\n",
    "#     method1 = get_action_usage_exact(df,'Cleaned method 1',r'^st1 ([0-9]+ \\- [0-9]+)$')\n",
    "#     return method1\n",
    "\n",
    "# df_test[df_test[\"Method_Recognized_1_Copied\"].str.match(r'st1 [0-9]+ \\- [0-9]+')][\"Method_Recognized_1_Copied\"]"
   ]
  },
  {
   "cell_type": "code",
   "execution_count": 19,
   "metadata": {
    "collapsed": false
   },
   "outputs": [],
   "source": [
    "# df_test['range'] = df_test['Cleaned method 1'].str.match(r'^st1 ([0-9]+ \\- [0-9]+)$',as_indexer=True)\n",
    "# df_test[['range','Cleaned method 1','Method_Recognized_1_Copied']]"
   ]
  },
  {
   "cell_type": "code",
   "execution_count": 20,
   "metadata": {
    "collapsed": false
   },
   "outputs": [],
   "source": [
    "color = {\"Now try working on this new example\":\"#252525\",\n",
    "         \"intuition\": \"#969696\", # \"#bdbdbd\",\n",
    "         \"single value\": \"red\",\n",
    "#          \"submit\": \"#969696\",\n",
    "#          \"evaluation\": \"#737373\",\n",
    "#          \"checkIntuition\": \"#525252\",\n",
    "         'Median': \"#33a02c\",\n",
    "         'Average': \"#6a3d9a\",\n",
    "         'Sum': \"#1f78b4\",\n",
    "         'all': \"#ff7f00\",\n",
    "         'evaluation steps': \"#525252\",\n",
    "        }\n",
    "column_to_use = {\"Now try working on this new example\":\"Feedback Text\",\n",
    "                 \"intuition\": \"Selection\",\n",
    "                 \"submit\": \"Selection\",\n",
    "                 \"evaluation\": \"Selection\",\n",
    "                 \"checkIntuition\": \"Selection\",\n",
    "                 'Median': 'Cleaned method 1',\n",
    "                 'Average': 'Cleaned method 1',\n",
    "                 'Sum': 'Cleaned method 1',\n",
    "                 'all': 'Cleaned method 1',\n",
    "                }\n",
    "\n",
    "function_to_use = {\"single value\":get_single_value_usage,\n",
    "#                     \"range\":get_range_usage,\n",
    "                   \"evaluation steps\":get_evaluation_steps_usage}\n",
    "\n",
    "\n",
    "# to_plot = [\"intuition\",'Median','Average','Sum','all',\"submit\",\"evaluation\",\"checkIntuition\",\"evaluation steps\"]\n",
    "to_plot = [\"intuition\",'single value','Median','Average','Sum','all',\"evaluation steps\"]"
   ]
  },
  {
   "cell_type": "code",
   "execution_count": 26,
   "metadata": {
    "collapsed": false
   },
   "outputs": [
    {
     "name": "stdout",
     "output_type": "stream",
     "text": [
      "evaluation steps\n",
      "[(108.0, 33.0), (203.0, 97.0), (300.0, 101.0), (476.0, 34.0), (645.0, 28.0), (727.0, 4.0), (804.0, 37.0), (841.0, 25.0), (1405.0, 38.0), (1443.0, 3.0), (1592.0, 64.0), (1785.0, 34.0), (1897.0, 8.0)]\n",
      "all\n",
      "[(55.0, 14.0), (69.0, 3.0), (72.0, 30.0), (102.0, 2.0), (104.0, 4.0), (108.0, 27.0), (135.0, 4.0), (139.0, 2.0), (162.0, 3.0), (165.0, 7.0), (172.0, 2.0), (174.0, 2.0), (176.0, 27.0), (203.0, 9.0), (212.0, 2.0), (214.0, 86.0), (300.0, 22.0), (322.0, 2.0), (324.0, 77.0), (441.0, 8.0), (449.0, 2.0), (451.0, 18.0), (516.0, 5.0), (521.0, 2.0), (523.0, 62.0), (922.0, 8.0), (930.0, 4.0), (934.0, 6.0), (946.0, 3.0), (949.0, 2.0), (951.0, 8.0)]\n",
      "Sum\n",
      "[(476.0, 34.0), (514.0, 2.0), (516.0, 5.0), (521.0, 2.0), (523.0, 62.0)]\n",
      "Average\n",
      "[(52.0, 3.0), (55.0, 14.0), (69.0, 3.0), (72.0, 30.0), (102.0, 2.0), (104.0, 4.0), (108.0, 27.0), (135.0, 4.0), (139.0, 2.0), (159.0, 3.0), (162.0, 3.0), (165.0, 7.0), (172.0, 2.0), (174.0, 2.0), (176.0, 27.0), (203.0, 9.0), (212.0, 2.0), (214.0, 86.0), (300.0, 22.0), (322.0, 2.0), (324.0, 77.0), (944.0, 2.0), (946.0, 3.0), (949.0, 2.0), (951.0, 8.0)]\n",
      "Median\n",
      "[(436.0, 5.0), (441.0, 8.0), (449.0, 2.0), (451.0, 18.0), (919.0, 3.0), (922.0, 8.0), (930.0, 4.0), (934.0, 6.0)]\n",
      "intuition\n",
      "[(0.0, 11.0), (754.0, 5.0)]\n"
     ]
    },
    {
     "data": {
      "image/png": "[encoded data removed]",
      "text/plain": [
       "<matplotlib.figure.Figure at 0xefa79b0>"
      ]
     },
     "metadata": {},
     "output_type": "display_data"
    }
   ],
   "source": [
    "fig = plt.figure(figsize=(18,8))\n",
    "ax = plt.subplot()\n",
    "spacing =10\n",
    "pos = 0\n",
    "max_time = 0\n",
    "actions = list(reversed(to_plot))\n",
    "black = '#252525'\n",
    "for i,action in enumerate(actions):\n",
    "    if action in column_to_use.keys():\n",
    "        action_use = get_action_usage(df_test,column_to_use[action],action)\n",
    "    else:\n",
    "        action_use = function_to_use[action](df_test)\n",
    "    if action_use:\n",
    "        max_time = max(max_time,sum(action_use[-1]))\n",
    "        ax.broken_barh(action_use,(pos,spacing),facecolors=color[action],alpha=1,linewidth=0)\n",
    "    pos += spacing\n",
    "\n",
    "# #Add horizontal bar\n",
    "# ax.broken_barh([(0,ax.get_xlim()[1])],(40,0.5),facecolors='white',alpha=1,linewidth=0)\n",
    "\n",
    "#Add new case bar\n",
    "new_case = \"Now try working on this new example\"\n",
    "action_use = get_action_usage(df_test,column_to_use[new_case],new_case)\n",
    "max_time = max(max_time,sum(action_use[-1]))\n",
    "ax.broken_barh(action_use,(0,len(actions)*spacing),facecolors=black,alpha=1,linewidth=0)\n",
    "\n",
    "ax.set_xlabel('minutes in activity')\n",
    "ax.set_xticks(range(0,int(max_time),60*5))\n",
    "ax.set_xticklabels([str(x/60)+'' for x in range(0,int(max_time),60*5)])\n",
    "ax.set_yticks(range(spacing/2,len(actions)*spacing,spacing))\n",
    "ax.set_yticklabels(actions)\n",
    "ax.grid(True)\n",
    "plt.show()"
   ]
  },
  {
   "cell_type": "markdown",
   "metadata": {},
   "source": [
    "The black vertical bar in the graph shows when a \"new case\" is presented"
   ]
  },
  {
   "cell_type": "markdown",
   "metadata": {
    "collapsed": true
   },
   "source": [
    "### Adding cases"
   ]
  },
  {
   "cell_type": "code",
   "execution_count": null,
   "metadata": {
    "collapsed": true
   },
   "outputs": [],
   "source": [
    "def get_all_cases(df):\n",
    "    '''Given a dataframe with students' activity, we extract all\n",
    "    the contrasting cases they were given as well as starting time and\n",
    "    length of time for which they were working on that case.\n",
    "    \n",
    "    Args:\n",
    "        df (Pandas dataframe): The dataframe to search in.        \n",
    "\n",
    "    Returns:\n",
    "        coordinates: a dictionary where the keys are the cases and values are time coordinates.\n",
    "                    Cases are in the format ('1 2 3 6','2 3 6 7').\n",
    "                    Time coordinates are in the format (start_time, duration)\n",
    "    '''\n",
    "    coordinates = {}\n",
    "    \n",
    "    #get all possible cases\n",
    "    raw_cases = list(set(df['cases']))\n",
    "    for raw_case in raw_cases:\n",
    "        #clean them up:\n",
    "        case = tuple(str(data).replace('\\\"','') for data in raw_case.split(','))\n",
    "        #we get time coordinates the way we always do\n",
    "        coords = get_action_usage(df_test,'cases',raw_case)\n",
    "        #we just need the start time and overall duration.\n",
    "        coordinates[case] = coords\n",
    "        #if it is possible that a pair of cases is used only once, then we can simplify with:\n",
    "#         coordinates[case] = (coords[0][0],sum(coords[-1])-coords[0][0])\n",
    "        \n",
    "    return coordinates\n",
    "\n",
    "#print get_all_cases(df_test)"
   ]
  },
  {
   "cell_type": "markdown",
   "metadata": {
    "collapsed": true
   },
   "source": [
    "### TODO\n",
    "Ordered in some kind of general priority (in terms of need of feedback and desired feature)\n",
    "* start implementing categories that are under “option 4” in the coding document (see copy below from May 29th)\n",
    "* display method at \"max\", after a submit or delete all/reset\n",
    "* add case data to graph\n",
    "* display method at \"max\", after a submit or delete all/reset\n",
    "* merge evaluation and checkintuition\n",
    "* Indicate when current method could be used to “crack” or solve the contrasting cases. (‘when it works’) => correct order. \n",
    "\n",
    "### Overall graph structure:\n",
    "Row 1: intuition\n",
    "Rows 2-n: methods\n",
    "Plot “build” events (any click in that part of the interface).\n",
    "Below, show the method in writing.\n",
    "Row n+1: Submit\n",
    "Row n+2: Evaluation (merge Evaluate, Check Intuition).\n",
    "Later consider merging “submit” into this. \n",
    " \n",
    "Plot building events, not durations \n",
    "Pauses become gaps. \n",
    "\n",
    "\n",
    "\n",
    "#### Categories\n",
    "1. single value\n",
    "* Central tendency , ready made\n",
    "* Combination of ready made, random\n",
    "* Range 6 - 1\n",
    "* Count gaps (if numbers are 1 4 4 6)\n",
    "    * click all empty points within range - 2 3 5\n",
    "    * click all empty points within the largest gap - 2 3\n",
    "* Extrapolated range\n",
    "    * Inner range 4-4 - single step method\n",
    "    * Any method that uses more than extreme values, and some form of subtraction. \n",
    "        * Recursive range (6-1) +/- (4-4)\n",
    "        * All pairwise ranges (6-1, 6-4, 4-4, 4-1)\n",
    "* extrapolated range + count all\n",
    "* Canonical\n"
   ]
  },
  {
   "cell_type": "markdown",
   "metadata": {},
   "source": [
    "### Adding \"range\" method"
   ]
  },
  {
   "cell_type": "code",
   "execution_count": null,
   "metadata": {
    "collapsed": true
   },
   "outputs": [],
   "source": []
  }
 ],
 "metadata": {
  "anaconda-cloud": {},
  "kernelspec": {
   "display_name": "Python [Root]",
   "language": "python",
   "name": "Python [Root]"
  },
  "language_info": {
   "codemirror_mode": {
    "name": "ipython",
    "version": 2
   },
   "file_extension": ".py",
   "mimetype": "text/x-python",
   "name": "python",
   "nbconvert_exporter": "python",
   "pygments_lexer": "ipython2",
   "version": "2.7.12"
  }
 },
 "nbformat": 4,
 "nbformat_minor": 1
}
